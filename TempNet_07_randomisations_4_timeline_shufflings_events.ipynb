{
 "cells": [
  {
   "cell_type": "markdown",
   "metadata": {},
   "source": [
    "# Temporal Networks v1.0 #"
   ]
  },
  {
   "cell_type": "code",
   "execution_count": 7,
   "metadata": {},
   "outputs": [],
   "source": [
    "import sys\n",
    "sys.path.append(\"/home/genois/Bureau/tempnet/\")\n",
    "import numpy as np\n",
    "import matplotlib.pyplot as plt\n",
    "import itertools as it\n",
    "from math import log"
   ]
  },
  {
   "cell_type": "code",
   "execution_count": 3,
   "metadata": {},
   "outputs": [],
   "source": [
    "import tempnet.utils as tnu\n",
    "import tempnet.measures as tnm\n",
    "import tempnet.randomisations as tnr"
   ]
  },
  {
   "cell_type": "markdown",
   "metadata": {},
   "source": [
    "## Timeline shuffling - events ##\n",
    "We here present randomization techniques which shuffle the timelines of contact of links in the static network, for events with durations. All functions take a `link_timeline()` object as input, and return a `link_timeline()` object."
   ]
  },
  {
   "cell_type": "markdown",
   "metadata": {},
   "source": [
    "### Global contact shuffling on the aggregated network $\\text{P}[\\mathcal{L},p(\\tau)]$: `P__L_ptau(lks_data,ti,tf,dt)` ###\n",
    "This function shuffles contacts between all the links of a `link_timeline()` object `lks_data` while preserving their duration. The initial time `ti`, the final time `tf` and the time step duration `dt` are required."
   ]
  },
  {
   "cell_type": "code",
   "execution_count": 4,
   "metadata": {},
   "outputs": [],
   "source": [
    "lks_data = tnu.read_link_timeline(\"/home/genois/Bureau/tempnet/lks_InVS13.dat\")\n",
    "new_lks = tnr.P__L_ptau(lks_data,0,60480,1)"
   ]
  },
  {
   "cell_type": "markdown",
   "metadata": {},
   "source": [
    "Test of the modification of the activity timeline:"
   ]
  },
  {
   "cell_type": "code",
   "execution_count": 5,
   "metadata": {},
   "outputs": [
    {
     "data": {
      "image/png": "[encoded data removed]",
      "text/plain": [
       "<matplotlib.figure.Figure at 0x7f4068045250>"
      ]
     },
     "metadata": {
      "needs_background": "light"
     },
     "output_type": "display_data"
    }
   ],
   "source": [
    "TL0 = tnm.activity_timeline(tnu.link_timeline_to_snapshot_sequence(lks_data,1,0,60480))\n",
    "TL1 = tnm.activity_timeline(tnu.link_timeline_to_snapshot_sequence(new_lks,1,0,60480))\n",
    "\n",
    "tmin = 1000\n",
    "tmax = 2000\n",
    "\n",
    "fig = plt.figure(figsize=(8,2))\n",
    "x = range(len(TL0))[tmin:tmax]\n",
    "plt.plot(x,TL0[tmin:tmax],'k-')\n",
    "plt.plot(x,TL1[tmin:tmax],'r-')\n",
    "plt.show()"
   ]
  },
  {
   "cell_type": "markdown",
   "metadata": {},
   "source": [
    "Test of the preservation of the $p_\\tau$:"
   ]
  },
  {
   "cell_type": "code",
   "execution_count": 8,
   "metadata": {},
   "outputs": [
    {
     "data": {
      "image/png": "[encoded data removed]",
      "text/plain": [
       "<matplotlib.figure.Figure at 0x7f405f502350>"
      ]
     },
     "metadata": {
      "needs_background": "light"
     },
     "output_type": "display_data"
    }
   ],
   "source": [
    "list_tau0 = tnm.contact_durations(lks_data)\n",
    "list_tau1 = tnm.contact_durations(new_lks)\n",
    "list_tau0 = list(it.chain(*list_tau0.values()))\n",
    "list_tau1 = list(it.chain(*list_tau1.values()))\n",
    "\n",
    "fig = plt.figure(figsize=(4,4))\n",
    "tmax = max(list_tau0)\n",
    "x = 2.**(np.arange(0,log(tmax)+1,0.5))\n",
    "h0 = np.histogram(list_tau0,bins=x)\n",
    "h1 = np.histogram(list_tau1,bins=x)\n",
    "plt.loglog(x[1:],h0[0],'ko')\n",
    "plt.loglog(x[1:],h1[0],'r^')\n",
    "plt.show()"
   ]
  },
  {
   "cell_type": "markdown",
   "metadata": {},
   "source": [
    "### Permutation of contacts within timelines $\\text{P}[\\pi_\\mathcal{L}(\\tau)]$: `P__pitau(lks_data,t_i,t_f,dt)` ###\n",
    "This function randomly permutates the contacts within each timeline of a `link_timeline()` object `lks_data`, with new initial starting points chosen uniformly. The initial time step `t_i`, final time step `t_f` and time step duration `dt` are required."
   ]
  },
  {
   "cell_type": "code",
   "execution_count": 3,
   "metadata": {},
   "outputs": [],
   "source": [
    "lks_data = tnu.read_link_timeline(\"/home/genois/Bureau/tempnet/lks_InVS13.dat\")\n",
    "new_lks = tnr.P__pitau(lks_data,0,60480,1)"
   ]
  },
  {
   "cell_type": "markdown",
   "metadata": {},
   "source": [
    "Test of the preservation of the $\\pi_\\tau$ and not preservation of $\\pi_{\\Delta\\tau}$:"
   ]
  },
  {
   "cell_type": "code",
   "execution_count": 4,
   "metadata": {},
   "outputs": [
    {
     "name": "stdout",
     "output_type": "stream",
     "text": [
      "True False\n"
     ]
    }
   ],
   "source": [
    "dict_tau0 = tnm.contact_durations(lks_data)\n",
    "dict_dtau0 = tnm.intercontact_durations(lks_data)\n",
    "dict_tau1 = tnm.contact_durations(new_lks)\n",
    "dict_dtau1 = tnm.intercontact_durations(new_lks)\n",
    "Test_tau = np.array([set(dict_tau0[lk]) == set(dict_tau1[lk]) for lk in lks_data.links()])\n",
    "Test_dtau = np.array([set(dict_dtau0[lk]) == set(dict_dtau1[lk]) for lk in lks_data.links()])\n",
    "print Test_tau.all(),Test_dtau.all()"
   ]
  },
  {
   "cell_type": "markdown",
   "metadata": {},
   "source": [
    "Test of the modification of the activity timeline:"
   ]
  },
  {
   "cell_type": "code",
   "execution_count": 5,
   "metadata": {},
   "outputs": [
    {
     "data": {
      "image/png": "[encoded data removed]",
      "text/plain": [
       "<matplotlib.figure.Figure at 0x7f00a560b110>"
      ]
     },
     "metadata": {
      "needs_background": "light"
     },
     "output_type": "display_data"
    }
   ],
   "source": [
    "TL0 = tnm.activity_timeline(tnu.link_timeline_to_snapshot_sequence(lks_data,1,0,60480))\n",
    "TL1 = tnm.activity_timeline(tnu.link_timeline_to_snapshot_sequence(new_lks,1,0,60480))\n",
    "\n",
    "tmin = 1000\n",
    "tmax = 2000\n",
    "\n",
    "fig = plt.figure(figsize=(8,2))\n",
    "x = range(len(TL0))[tmin:tmax]\n",
    "plt.plot(x,TL0[tmin:tmax],'k-')\n",
    "plt.plot(x,TL1[tmin:tmax],'r-')\n",
    "plt.show()"
   ]
  },
  {
   "cell_type": "markdown",
   "metadata": {},
   "source": [
    "### Contacts shuffling $\\text{P}[\\pi_\\mathcal{L}(\\tau),\\mathbf{t}^1,\\mathbf{t}^w]$: `P__pitau_t1_tw(lks_data,dt)` ###\n",
    "This function randomly shuffles the contacts of a timeline within $[t^1,t^w]$, for each timeline of a `link_timeline()` object `lks_data`. The time step duration `dt` is required."
   ]
  },
  {
   "cell_type": "code",
   "execution_count": 6,
   "metadata": {},
   "outputs": [],
   "source": [
    "lks_data = tnu.read_link_timeline(\"/home/genois/Bureau/tempnet/lks_InVS13.dat\")\n",
    "new_lks = tnr.P__pitau_t1_tw(lks_data,1)"
   ]
  },
  {
   "cell_type": "markdown",
   "metadata": {},
   "source": [
    "Test of the modification of the activity timeline:"
   ]
  },
  {
   "cell_type": "code",
   "execution_count": 7,
   "metadata": {},
   "outputs": [
    {
     "data": {
      "image/png": "[encoded data removed]",
      "text/plain": [
       "<matplotlib.figure.Figure at 0x7f00802e1950>"
      ]
     },
     "metadata": {
      "needs_background": "light"
     },
     "output_type": "display_data"
    }
   ],
   "source": [
    "TL0 = tnm.activity_timeline(tnu.link_timeline_to_snapshot_sequence(lks_data,1,0,60480))\n",
    "TL1 = tnm.activity_timeline(tnu.link_timeline_to_snapshot_sequence(new_lks,1,0,60480))\n",
    "\n",
    "tmin = 1000\n",
    "tmax = 2000\n",
    "\n",
    "fig = plt.figure(figsize=(8,2))\n",
    "x = range(len(TL0))[tmin:tmax]\n",
    "plt.plot(x,TL0[tmin:tmax],'k-')\n",
    "plt.plot(x,TL1[tmin:tmax],'r-')\n",
    "plt.show()"
   ]
  },
  {
   "cell_type": "markdown",
   "metadata": {},
   "source": [
    "### Permutation of contacts and intercontacts within timelines $\\text{P}[\\pi_\\mathcal{L}(\\tau),\\pi_\\mathcal{L}(\\Delta \\tau)]$: `P__pitau_pidtau(lks_data,t_i,t_f,dt)` ###\n",
    "This function randomly permutates the contacts and intercontacts within each timeline of a `link_timeline()` object `lks_data`. The initial time step `t_i`, final time step `t_f` and time step duration `dt` are required."
   ]
  },
  {
   "cell_type": "code",
   "execution_count": 8,
   "metadata": {},
   "outputs": [],
   "source": [
    "lks_data = tnu.read_link_timeline(\"/home/genois/Bureau/tempnet/lks_InVS13.dat\")\n",
    "new_lks = tnr.P__pitau_pidtau(lks_data,0,60480,1)"
   ]
  },
  {
   "cell_type": "markdown",
   "metadata": {},
   "source": [
    "Test of the preservation of the $\\pi_\\tau$ and $\\pi_{\\Delta\\tau}$:"
   ]
  },
  {
   "cell_type": "code",
   "execution_count": 9,
   "metadata": {},
   "outputs": [
    {
     "name": "stdout",
     "output_type": "stream",
     "text": [
      "True True\n"
     ]
    }
   ],
   "source": [
    "dict_tau0 = tnm.contact_durations(lks_data)\n",
    "dict_dtau0 = tnm.intercontact_durations(lks_data)\n",
    "dict_tau1 = tnm.contact_durations(new_lks)\n",
    "dict_dtau1 = tnm.intercontact_durations(new_lks)\n",
    "Test_tau = np.array([set(dict_tau0[lk]) == set(dict_tau1[lk]) for lk in lks_data.links()])\n",
    "Test_dtau = np.array([set(dict_dtau0[lk]) == set(dict_dtau1[lk]) for lk in lks_data.links()])\n",
    "print Test_tau.all(),Test_dtau.all()"
   ]
  },
  {
   "cell_type": "markdown",
   "metadata": {},
   "source": [
    "Test of the modification of the activity timeline:"
   ]
  },
  {
   "cell_type": "code",
   "execution_count": 10,
   "metadata": {},
   "outputs": [
    {
     "data": {
      "image/png": "[encoded data removed]",
      "text/plain": [
       "<matplotlib.figure.Figure at 0x7f00c8ace050>"
      ]
     },
     "metadata": {
      "needs_background": "light"
     },
     "output_type": "display_data"
    }
   ],
   "source": [
    "TL0 = tnm.activity_timeline(tnu.link_timeline_to_snapshot_sequence(lks_data,1,0,60480))\n",
    "TL1 = tnm.activity_timeline(tnu.link_timeline_to_snapshot_sequence(new_lks,1,0,60480))\n",
    "\n",
    "tmin = 1000\n",
    "tmax = 2000\n",
    "\n",
    "fig = plt.figure(figsize=(8,2))\n",
    "x = range(len(TL0))[tmin:tmax]\n",
    "plt.plot(x,TL0[tmin:tmax],'k-')\n",
    "plt.plot(x,TL1[tmin:tmax],'r-')\n",
    "plt.show()"
   ]
  },
  {
   "cell_type": "markdown",
   "metadata": {},
   "source": [
    "### Permutation of contacts and intercontacts within timelines with initial time $\\text{P}[\\pi_\\mathcal{L}(\\tau),\\pi_\\mathcal{L}(\\Delta \\tau),\\mathbf{t}_1]$: `P__pitau_pidtau_t1(lks_data)` ###\n",
    "This function randomly permutates the contacts and intercontacts within each timeline of a `link_timeline()` object `lks_data` while keeping the initial time."
   ]
  },
  {
   "cell_type": "code",
   "execution_count": 11,
   "metadata": {},
   "outputs": [],
   "source": [
    "lks_data = tnu.read_link_timeline(\"/home/genois/Bureau/tempnet/lks_InVS13.dat\")\n",
    "new_lks = tnr.P__pitau_pidtau_t1(lks_data)"
   ]
  },
  {
   "cell_type": "markdown",
   "metadata": {},
   "source": [
    "Test of the preservation of $\\pi_\\tau$ and $\\pi_{\\Delta\\tau}$:"
   ]
  },
  {
   "cell_type": "code",
   "execution_count": 12,
   "metadata": {},
   "outputs": [
    {
     "name": "stdout",
     "output_type": "stream",
     "text": [
      "True True\n"
     ]
    }
   ],
   "source": [
    "dict_tau0 = tnm.contact_durations(lks_data)\n",
    "dict_dtau0 = tnm.intercontact_durations(lks_data)\n",
    "dict_tau1 = tnm.contact_durations(new_lks)\n",
    "dict_dtau1 = tnm.intercontact_durations(new_lks)\n",
    "Test_tau = np.array([set(dict_tau0[lk]) == set(dict_tau1[lk]) for lk in lks_data.links()])\n",
    "Test_dtau = np.array([set(dict_dtau0[lk]) == set(dict_dtau1[lk]) for lk in lks_data.links()])\n",
    "print Test_tau.all(),Test_dtau.all()"
   ]
  },
  {
   "cell_type": "markdown",
   "metadata": {},
   "source": [
    "Test of the modification of the activity timeline:"
   ]
  },
  {
   "cell_type": "code",
   "execution_count": 13,
   "metadata": {},
   "outputs": [
    {
     "data": {
      "image/png": "[encoded data removed]",
      "text/plain": [
       "<matplotlib.figure.Figure at 0x7f0069fd3e10>"
      ]
     },
     "metadata": {
      "needs_background": "light"
     },
     "output_type": "display_data"
    }
   ],
   "source": [
    "TL0 = tnm.activity_timeline(tnu.link_timeline_to_snapshot_sequence(lks_data,1,0,60480))\n",
    "TL1 = tnm.activity_timeline(tnu.link_timeline_to_snapshot_sequence(new_lks,1,0,60480))\n",
    "\n",
    "tmin = 1000\n",
    "tmax = 2000\n",
    "\n",
    "fig = plt.figure(figsize=(8,2))\n",
    "x = range(len(TL0))[tmin:tmax]\n",
    "plt.plot(x,TL0[tmin:tmax],'k-')\n",
    "plt.plot(x,TL1[tmin:tmax],'r-')\n",
    "plt.show()"
   ]
  },
  {
   "cell_type": "markdown",
   "metadata": {},
   "source": [
    "### Permutation of intercontacts $\\text{P}[\\pi_\\mathcal{L}(\\Delta \\tau)]$, $\\text{P}[\\pi_\\mathcal{L}(\\Delta \\tau),\\mathbf{t}_1]$: ###\n",
    "These shufflings randomly permutate the intercontacts within each timeline of a `link_timeline()` object `lks_data` while breaking the contacts into instant-events. In order to implement this, simply transform the `link_timeline()` object with durations in `link_timeline()` object with instant-events with the following method:"
   ]
  },
  {
   "cell_type": "code",
   "execution_count": 9,
   "metadata": {},
   "outputs": [],
   "source": [
    "seq_data = tnu.link_timeline_to_snapshot_sequence(lks_data,1,0,60480)\n",
    "new_lks = tnu.snapshot_sequence_to_link_timeline(seq_data,1,join=False)"
   ]
  },
  {
   "cell_type": "markdown",
   "metadata": {},
   "source": [
    "The new `link_timeline()` object can then be randomised using the two functions `P__pitau_pidtau(lks_data,t_i,t_f,dt)` and `P__pitau_pidtau_t1(lks_data,t_i,t_f,dt)` described previously."
   ]
  },
  {
   "cell_type": "markdown",
   "metadata": {},
   "source": [
    "### Periodic boundary offset shuffling $\\text{P}[\\mathbf{per}(\\Theta)]$: `P__perTheta(lks_data,t_i,t_f,dt)` ###\n",
    "This function randomly offsets the time stamps of all contacts of a timeline, for each timeline of a `link_timeline()` object `lks_data`, with periodic boundary conditions between $t_i$ and $t_f$. The initial time step `t_i`, final time step `t_f` and time step duration `dt` are required."
   ]
  },
  {
   "cell_type": "code",
   "execution_count": 14,
   "metadata": {},
   "outputs": [],
   "source": [
    "lks_data = tnu.read_link_timeline(\"/home/genois/Bureau/tempnet/lks_InVS13.dat\")\n",
    "new_lks = tnr.P__perTheta(lks_data,0,60480,1)"
   ]
  },
  {
   "cell_type": "markdown",
   "metadata": {},
   "source": [
    "Test of the modification of the activity timeline:"
   ]
  },
  {
   "cell_type": "code",
   "execution_count": 15,
   "metadata": {},
   "outputs": [
    {
     "data": {
      "image/png": "[encoded data removed]",
      "text/plain": [
       "<matplotlib.figure.Figure at 0x7f00a57b07d0>"
      ]
     },
     "metadata": {
      "needs_background": "light"
     },
     "output_type": "display_data"
    }
   ],
   "source": [
    "TL0 = tnm.activity_timeline(tnu.link_timeline_to_snapshot_sequence(lks_data,1,0,60480))\n",
    "TL1 = tnm.activity_timeline(tnu.link_timeline_to_snapshot_sequence(new_lks,1,0,60480))\n",
    "\n",
    "tmin = 1000\n",
    "tmax = 2000\n",
    "\n",
    "fig = plt.figure(figsize=(8,2))\n",
    "x = range(len(TL0))[tmin:tmax]\n",
    "plt.plot(x,TL0[tmin:tmax],'k-')\n",
    "plt.plot(x,TL1[tmin:tmax],'r-')\n",
    "plt.show()"
   ]
  },
  {
   "cell_type": "markdown",
   "metadata": {},
   "source": [
    "### Offset shuffling $\\text{P}[\\tau,\\Delta\\tau]$: `P__tau_dtau(lks_data,t_i,t_f,dt)` ###\n",
    "This function randomly offsets the time stamps of all contacts of a timeline within $[t_i,t_f]$, for each timeline of a `link_timeline()` object `lks_data`. The initial time step `t_i`, final time step `t_f` and time step duration `dt` are required."
   ]
  },
  {
   "cell_type": "code",
   "execution_count": 16,
   "metadata": {},
   "outputs": [],
   "source": [
    "lks_data = tnu.read_link_timeline(\"/home/genois/Bureau/tempnet/lks_InVS13.dat\")\n",
    "new_lks = tnr.P__tau_dtau(lks_data,0,60480,1)"
   ]
  },
  {
   "cell_type": "markdown",
   "metadata": {},
   "source": [
    "Test of the modification of the activity timeline:"
   ]
  },
  {
   "cell_type": "code",
   "execution_count": 17,
   "metadata": {},
   "outputs": [
    {
     "data": {
      "image/png": "[encoded data removed]",
      "text/plain": [
       "<matplotlib.figure.Figure at 0x7f0069faf2d0>"
      ]
     },
     "metadata": {
      "needs_background": "light"
     },
     "output_type": "display_data"
    }
   ],
   "source": [
    "TL0 = tnm.activity_timeline(tnu.link_timeline_to_snapshot_sequence(lks_data,1,0,60480))\n",
    "TL1 = tnm.activity_timeline(tnu.link_timeline_to_snapshot_sequence(new_lks,1,0,60480))\n",
    "\n",
    "tmin = 1000\n",
    "tmax = 2000\n",
    "\n",
    "fig = plt.figure(figsize=(8,2))\n",
    "x = range(len(TL0))[tmin:tmax]\n",
    "plt.plot(x,TL0[tmin:tmax],'k-')\n",
    "plt.plot(x,TL1[tmin:tmax],'r-')\n",
    "plt.show()"
   ]
  },
  {
   "cell_type": "code",
   "execution_count": null,
   "metadata": {
    "collapsed": true
   },
   "outputs": [],
   "source": []
  }
 ],
 "metadata": {
  "kernelspec": {
   "display_name": "Python 2",
   "language": "python",
   "name": "python2"
  },
  "language_info": {
   "codemirror_mode": {
    "name": "ipython",
    "version": 2
   },
   "file_extension": ".py",
   "mimetype": "text/x-python",
   "name": "python",
   "nbconvert_exporter": "python",
   "pygments_lexer": "ipython2",
   "version": "2.7.15+"
  }
 },
 "nbformat": 4,
 "nbformat_minor": 1
}
