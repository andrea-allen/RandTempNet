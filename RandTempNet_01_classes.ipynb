{
 "metadata": {
  "name": "",
  "signature": "sha256:5117900783783d7f99d4bdac7ea3ee51b7d25df07f1cdafe89c06b405a8bf8e1"
 },
 "nbformat": 3,
 "nbformat_minor": 0,
 "worksheets": [
  {
   "cells": [
    {
     "cell_type": "markdown",
     "metadata": {},
     "source": [
      "#Random Temporal Networks v1.0#\n",
      "\n",
      "**By** Mathieu G\u00e9nois\n",
      "\n",
      "**Contact:** genois.mathieu@gmail.com\n",
      "\n",
      "**Reference:** Gauvin, G\u00e9nois, Karsai, Kivel\u00e4, Takaguchi, Valdano and Vestergaard\n",
      "\n",
      "##Presentation##\n",
      "\n",
      "Random Networks is a python library aiming at providing tools for randomizing temporal networks. The methods developped in this library and their effects on temporal networks features are described in the reference paper cited above.\n",
      "\n",
      "A framework to handle the different representations of temporal networks listed in the reference has been developped as well. The present library thus provides tools to build, use and manipulate temporal networks. This library does not rely on previous python network libraries, only on the usual random library, the scientific numpy library, and the plotting library matplotlib.\n",
      "\n",
      "The library is including by calling:"
     ]
    },
    {
     "cell_type": "code",
     "collapsed": false,
     "input": [
      "import sys\n",
      "sys.path.append(\"/home/luffy/Bureau/Random/Library\")\n",
      "import RandTempNet as rn"
     ],
     "language": "python",
     "metadata": {},
     "outputs": [],
     "prompt_number": 1
    },
    {
     "cell_type": "markdown",
     "metadata": {},
     "source": [
      "##Classes##\n",
      "###`link(i,j)`###\n",
      "The `link()` class is the basic element of this library. It represents an undirected link between two nodes `i` and `j` in the temporal network. Node values can only be integers. Node values are initialized when a `link()` object is created:"
     ]
    },
    {
     "cell_type": "code",
     "collapsed": false,
     "input": [
      "a = rn.link(0,1)"
     ],
     "language": "python",
     "metadata": {},
     "outputs": [],
     "prompt_number": 2
    },
    {
     "cell_type": "markdown",
     "metadata": {},
     "source": [
      "Node values can be accessed using the attributes:"
     ]
    },
    {
     "cell_type": "code",
     "collapsed": false,
     "input": [
      "print a.i,a.j"
     ],
     "language": "python",
     "metadata": {},
     "outputs": [
      {
       "output_type": "stream",
       "stream": "stdout",
       "text": [
        "0 1\n"
       ]
      }
     ],
     "prompt_number": 3
    },
    {
     "cell_type": "markdown",
     "metadata": {},
     "source": [
      "By definition, the `i` attribute contains the lowest node value, the `j` attribute contains the highest node value:"
     ]
    },
    {
     "cell_type": "code",
     "collapsed": false,
     "input": [
      "a = rn.link(1,0)\n",
      "print a.i, a.j"
     ],
     "language": "python",
     "metadata": {},
     "outputs": [
      {
       "output_type": "stream",
       "stream": "stdout",
       "text": [
        "0 1\n"
       ]
      }
     ],
     "prompt_number": 4
    },
    {
     "cell_type": "markdown",
     "metadata": {},
     "source": [
      "The whole link can be returned using the `display()` method, which returns a tuple with node values ordered in increasing order:"
     ]
    },
    {
     "cell_type": "code",
     "collapsed": false,
     "input": [
      "a.display()"
     ],
     "language": "python",
     "metadata": {},
     "outputs": [
      {
       "metadata": {},
       "output_type": "pyout",
       "prompt_number": 5,
       "text": [
        "(0, 1)"
       ]
      }
     ],
     "prompt_number": 5
    },
    {
     "cell_type": "markdown",
     "metadata": {},
     "source": [
      "`link()` objects can be compared, and the comparison follows the rule for undirected links:"
     ]
    },
    {
     "cell_type": "code",
     "collapsed": false,
     "input": [
      "a = rn.link(0,1)\n",
      "b = rn.link(0,2)\n",
      "c = rn.link(1,0)"
     ],
     "language": "python",
     "metadata": {},
     "outputs": [],
     "prompt_number": 6
    },
    {
     "cell_type": "code",
     "collapsed": false,
     "input": [
      "a == b"
     ],
     "language": "python",
     "metadata": {},
     "outputs": [
      {
       "metadata": {},
       "output_type": "pyout",
       "prompt_number": 7,
       "text": [
        "False"
       ]
      }
     ],
     "prompt_number": 7
    },
    {
     "cell_type": "code",
     "collapsed": false,
     "input": [
      "a == c"
     ],
     "language": "python",
     "metadata": {},
     "outputs": [
      {
       "metadata": {},
       "output_type": "pyout",
       "prompt_number": 7,
       "text": [
        "True"
       ]
      }
     ],
     "prompt_number": 7
    },
    {
     "cell_type": "markdown",
     "metadata": {},
     "source": [
      "Finally, `link()` objects are hashable and can thus for example be used as entries for a dictionary.\n",
      "###`event(t,i,j)`###\n",
      "An `event()` object is a `link()` object with a `time` attribute `t`, indicating when the event starts. The `time` attribute can only be an integer. The nodes `i` and `j` and the `time` attribute `t` of an `event()` object are assigned when the object is created:"
     ]
    },
    {
     "cell_type": "code",
     "collapsed": false,
     "input": [
      "a = rn.event(1,2,3)"
     ],
     "language": "python",
     "metadata": {},
     "outputs": [],
     "prompt_number": 10
    },
    {
     "cell_type": "markdown",
     "metadata": {},
     "source": [
      "The time value can be recovered using the `time` attribute:"
     ]
    },
    {
     "cell_type": "code",
     "collapsed": false,
     "input": [
      "a.time"
     ],
     "language": "python",
     "metadata": {},
     "outputs": [
      {
       "metadata": {},
       "output_type": "pyout",
       "prompt_number": 11,
       "text": [
        "1"
       ]
      }
     ],
     "prompt_number": 11
    },
    {
     "cell_type": "markdown",
     "metadata": {},
     "source": [
      "It can be changed directly:"
     ]
    },
    {
     "cell_type": "code",
     "collapsed": false,
     "input": [
      "a.time = 5"
     ],
     "language": "python",
     "metadata": {},
     "outputs": [],
     "prompt_number": 12
    },
    {
     "cell_type": "markdown",
     "metadata": {},
     "source": [
      "The link can be recovered using the `display()` method of the `link()` object:"
     ]
    },
    {
     "cell_type": "code",
     "collapsed": false,
     "input": [
      "a.link.display()"
     ],
     "language": "python",
     "metadata": {},
     "outputs": [
      {
       "metadata": {},
       "output_type": "pyout",
       "prompt_number": 13,
       "text": [
        "(2, 3)"
       ]
      }
     ],
     "prompt_number": 13
    },
    {
     "cell_type": "markdown",
     "metadata": {},
     "source": [
      "or using the `i` and `j` attributes of the `link()` object:"
     ]
    },
    {
     "cell_type": "code",
     "collapsed": false,
     "input": [
      "print a.link.i,a.link.j"
     ],
     "language": "python",
     "metadata": {},
     "outputs": [
      {
       "output_type": "stream",
       "stream": "stdout",
       "text": [
        "2 3\n"
       ]
      }
     ],
     "prompt_number": 14
    },
    {
     "cell_type": "markdown",
     "metadata": {},
     "source": [
      "The `link` attribute can be updated using the `change_link(i,j)` method:"
     ]
    },
    {
     "cell_type": "code",
     "collapsed": false,
     "input": [
      "a.change_link(2,3)"
     ],
     "language": "python",
     "metadata": {},
     "outputs": [],
     "prompt_number": 15
    },
    {
     "cell_type": "markdown",
     "metadata": {},
     "source": [
      "The `event()` object can be returned using the `out()` method as a tuple `(t,link(i,j))`:"
     ]
    },
    {
     "cell_type": "code",
     "collapsed": false,
     "input": [
      "a.out()"
     ],
     "language": "python",
     "metadata": {},
     "outputs": [
      {
       "metadata": {},
       "output_type": "pyout",
       "prompt_number": 16,
       "text": [
        "(5, <RandTempNet.link instance at 0x7fe248dbf200>)"
       ]
      }
     ],
     "prompt_number": 16
    },
    {
     "cell_type": "markdown",
     "metadata": {},
     "source": [
      "The `event()` object can be displayed using the `display()` method as a triplet `(t,i,j)`, using the same standard as for the link in the node ordering:"
     ]
    },
    {
     "cell_type": "code",
     "collapsed": false,
     "input": [
      "a.display()"
     ],
     "language": "python",
     "metadata": {},
     "outputs": [
      {
       "metadata": {},
       "output_type": "pyout",
       "prompt_number": 17,
       "text": [
        "(5, 2, 3)"
       ]
      }
     ],
     "prompt_number": 17
    },
    {
     "cell_type": "markdown",
     "metadata": {},
     "source": [
      "As for `link()` objects, `event()` objects can be compared:"
     ]
    },
    {
     "cell_type": "code",
     "collapsed": false,
     "input": [
      "a = rn.event(1,2,4)\n",
      "b = rn.event(1,4,2)\n",
      "a == b\n"
     ],
     "language": "python",
     "metadata": {},
     "outputs": [
      {
       "metadata": {},
       "output_type": "pyout",
       "prompt_number": 18,
       "text": [
        "True"
       ]
      }
     ],
     "prompt_number": 18
    },
    {
     "cell_type": "code",
     "collapsed": false,
     "input": [
      "rn.event(1,2,4) == rn.event(2,3,4)"
     ],
     "language": "python",
     "metadata": {},
     "outputs": [
      {
       "metadata": {},
       "output_type": "pyout",
       "prompt_number": 19,
       "text": [
        "False"
       ]
      }
     ],
     "prompt_number": 19
    },
    {
     "cell_type": "markdown",
     "metadata": {},
     "source": [
      "Finally, `event()` objects are hashable and thus can for example be used as entries for a dictionary.\n",
      "###`contact(t,tau)`###\n",
      "A `contact()` object is a `time` `t` and a `duration` `tau`, indicating when a contact starts and how long it lasts. The value of the `time` and `duration` attributes can only be integers. They are assigned when the object is created:"
     ]
    },
    {
     "cell_type": "code",
     "collapsed": false,
     "input": [
      "a = rn.contact(1,2)"
     ],
     "language": "python",
     "metadata": {},
     "outputs": [],
     "prompt_number": 2
    },
    {
     "cell_type": "markdown",
     "metadata": {},
     "source": [
      "The time and duration values can be recovered using the `time` and `duration` attributes:"
     ]
    },
    {
     "cell_type": "code",
     "collapsed": false,
     "input": [
      "print a.time,a.duration"
     ],
     "language": "python",
     "metadata": {},
     "outputs": [
      {
       "output_type": "stream",
       "stream": "stdout",
       "text": [
        "1 2\n"
       ]
      }
     ],
     "prompt_number": 3
    },
    {
     "cell_type": "markdown",
     "metadata": {},
     "source": [
      "They can be changed directly:"
     ]
    },
    {
     "cell_type": "code",
     "collapsed": false,
     "input": [
      "a.time = 5\n",
      "a.duration = 5"
     ],
     "language": "python",
     "metadata": {},
     "outputs": [],
     "prompt_number": 4
    },
    {
     "cell_type": "markdown",
     "metadata": {},
     "source": [
      "The `contact()` object can be displayed using the `display()` method as a triplet `(t,i,j)`, using the same standard as for the link in the node ordering:"
     ]
    },
    {
     "cell_type": "code",
     "collapsed": false,
     "input": [
      "a.display()"
     ],
     "language": "python",
     "metadata": {},
     "outputs": [
      {
       "metadata": {},
       "output_type": "pyout",
       "prompt_number": 6,
       "text": [
        "(5, 5)"
       ]
      }
     ],
     "prompt_number": 6
    },
    {
     "cell_type": "markdown",
     "metadata": {},
     "source": [
      "As for `link()` objects, `contact()` objects can be compared:"
     ]
    },
    {
     "cell_type": "code",
     "collapsed": false,
     "input": [
      "rn.contact(1,2) == rn.contact(1,2)"
     ],
     "language": "python",
     "metadata": {},
     "outputs": [
      {
       "metadata": {},
       "output_type": "pyout",
       "prompt_number": 7,
       "text": [
        "True"
       ]
      }
     ],
     "prompt_number": 7
    },
    {
     "cell_type": "code",
     "collapsed": false,
     "input": [
      "rn.contact(1,2) == rn.contact(2,1)"
     ],
     "language": "python",
     "metadata": {},
     "outputs": [
      {
       "metadata": {},
       "output_type": "pyout",
       "prompt_number": 8,
       "text": [
        "False"
       ]
      }
     ],
     "prompt_number": 8
    },
    {
     "cell_type": "markdown",
     "metadata": {},
     "source": [
      "Finally, `contact()` objects are hashable and thus can for example be used as entries for a dictionary.\n",
      "###`snapshot(list_link)`###\n",
      "A `snapshot()` object is a network of links. It has a `list_link` attribute which is the set of `link()` objects that are active. As the `list_link` is a set, it ensures the unicity of the links. The `list_link` is assigned directly when the `snapshot()` object is created:"
     ]
    },
    {
     "cell_type": "code",
     "collapsed": false,
     "input": [
      "a = rn.snapshot([rn.link(0,1),rn.link(2,3),rn.link(0,2),rn.link(1,2)])"
     ],
     "language": "python",
     "metadata": {},
     "outputs": [],
     "prompt_number": 9
    },
    {
     "cell_type": "markdown",
     "metadata": {},
     "source": [
      "One link can be added to the `snapshot()` object using the `add_link(i,j)` method:"
     ]
    },
    {
     "cell_type": "code",
     "collapsed": false,
     "input": [
      "a.add_link(0,3)"
     ],
     "language": "python",
     "metadata": {},
     "outputs": [],
     "prompt_number": 10
    },
    {
     "cell_type": "markdown",
     "metadata": {},
     "source": [
      "Multiple links can be added using the `add_links(list_link)` method:"
     ]
    },
    {
     "cell_type": "code",
     "collapsed": false,
     "input": [
      "a.add_links([(0,3),(3,4),(2,4)])"
     ],
     "language": "python",
     "metadata": {},
     "outputs": [],
     "prompt_number": 12
    },
    {
     "cell_type": "markdown",
     "metadata": {},
     "source": [
      "One link can be removed using the `del_link(i,j)` method:"
     ]
    },
    {
     "cell_type": "code",
     "collapsed": false,
     "input": [
      "a.del_link(0,3)"
     ],
     "language": "python",
     "metadata": {},
     "outputs": [],
     "prompt_number": 13
    },
    {
     "cell_type": "markdown",
     "metadata": {},
     "source": [
      "Multiple links can be removed using the `del_links(list_link)` method:"
     ]
    },
    {
     "cell_type": "code",
     "collapsed": false,
     "input": [
      "a.del_links([(0,3),(3,4),(2,4)])"
     ],
     "language": "python",
     "metadata": {},
     "outputs": [],
     "prompt_number": 14
    },
    {
     "cell_type": "markdown",
     "metadata": {},
     "source": [
      "The `out()` method returns the list of `link()` objects:"
     ]
    },
    {
     "cell_type": "code",
     "collapsed": false,
     "input": [
      "a.out()"
     ],
     "language": "python",
     "metadata": {},
     "outputs": [
      {
       "metadata": {},
       "output_type": "pyout",
       "prompt_number": 15,
       "text": [
        "{<RandTempNet.link instance at 0x7f6c87f1a368>,\n",
        " <RandTempNet.link instance at 0x7f6c87f1a6c8>,\n",
        " <RandTempNet.link instance at 0x7f6c87f1a758>,\n",
        " <RandTempNet.link instance at 0x7f6c87f1a7a0>}"
       ]
      }
     ],
     "prompt_number": 15
    },
    {
     "cell_type": "markdown",
     "metadata": {},
     "source": [
      "The `display()` method returns the snapshot as a list of tuples:"
     ]
    },
    {
     "cell_type": "code",
     "collapsed": false,
     "input": [
      "a.display()"
     ],
     "language": "python",
     "metadata": {},
     "outputs": [
      {
       "metadata": {},
       "output_type": "pyout",
       "prompt_number": 16,
       "text": [
        "[(0, 1), (1, 2), (2, 3), (0, 2)]"
       ]
      }
     ],
     "prompt_number": 16
    },
    {
     "cell_type": "markdown",
     "metadata": {},
     "source": [
      "###`tij()`###\n",
      "The `tij()` class is one of the four representations for temporal networks used in this library, used to list events. It is mainly used for data input and output. A `tij()` object is created empty:"
     ]
    },
    {
     "cell_type": "code",
     "collapsed": false,
     "input": [
      "a = rn.tij()"
     ],
     "language": "python",
     "metadata": {},
     "outputs": [],
     "prompt_number": 3
    },
    {
     "cell_type": "markdown",
     "metadata": {},
     "source": [
      "An event can be added using the `add_event(t,i,j)` method:"
     ]
    },
    {
     "cell_type": "code",
     "collapsed": false,
     "input": [
      "a.add_event(4,5,2)"
     ],
     "language": "python",
     "metadata": {},
     "outputs": [],
     "prompt_number": 4
    },
    {
     "cell_type": "markdown",
     "metadata": {},
     "source": [
      "An event can be removed using the `del_event(t,i,j)` method:"
     ]
    },
    {
     "cell_type": "code",
     "collapsed": false,
     "input": [
      "a.del_event(4,5,2)"
     ],
     "language": "python",
     "metadata": {},
     "outputs": [],
     "prompt_number": 5
    },
    {
     "cell_type": "markdown",
     "metadata": {},
     "source": [
      "This can be also done in bunch using lists:"
     ]
    },
    {
     "cell_type": "code",
     "collapsed": false,
     "input": [
      "a.add_events([(2,3,2),(1,4,1)])\n",
      "a.del_events([(2,3,2),(1,4,1)])"
     ],
     "language": "python",
     "metadata": {},
     "outputs": [],
     "prompt_number": 6
    },
    {
     "cell_type": "markdown",
     "metadata": {},
     "source": [
      "The `out()` method returns the list of events sorted by time:"
     ]
    },
    {
     "cell_type": "code",
     "collapsed": false,
     "input": [
      "a.add_events([(2,3,2),(1,4,1)])\n",
      "a.out()"
     ],
     "language": "python",
     "metadata": {},
     "outputs": [
      {
       "metadata": {},
       "output_type": "pyout",
       "prompt_number": 7,
       "text": [
        "[<RandTempNet.event instance at 0x7fc04c3f7c68>,\n",
        " <RandTempNet.event instance at 0x7fc04c3f7518>]"
       ]
      }
     ],
     "prompt_number": 7
    },
    {
     "cell_type": "markdown",
     "metadata": {},
     "source": [
      "The `display()` method returns the list of triplets `(t,i,j)` sorted by time:"
     ]
    },
    {
     "cell_type": "code",
     "collapsed": false,
     "input": [
      "a.display()"
     ],
     "language": "python",
     "metadata": {},
     "outputs": [
      {
       "metadata": {},
       "output_type": "pyout",
       "prompt_number": 8,
       "text": [
        "[(1, 1, 4), (2, 2, 3)]"
       ]
      }
     ],
     "prompt_number": 8
    },
    {
     "cell_type": "markdown",
     "metadata": {},
     "source": [
      "###`tijtau()`###\n",
      "The `tijtau()` class is one of the four representations for temporal networks used in this library, used to list contacts. It consists in a dictionary of durations `tau`, with events `(t,i,j)` used as keys. It is mainly used for data input and output. A `tijtau()` object is created empty:"
     ]
    },
    {
     "cell_type": "code",
     "collapsed": false,
     "input": [
      "a = rn.tijtau()"
     ],
     "language": "python",
     "metadata": {},
     "outputs": [],
     "prompt_number": 2
    },
    {
     "cell_type": "markdown",
     "metadata": {},
     "source": [
      "A contact can be added using the `add_contact(t,i,j,tau)` method:"
     ]
    },
    {
     "cell_type": "code",
     "collapsed": false,
     "input": [
      "a.add_contact(4,5,2,1)"
     ],
     "language": "python",
     "metadata": {},
     "outputs": [],
     "prompt_number": 3
    },
    {
     "cell_type": "markdown",
     "metadata": {},
     "source": [
      "A contact can be removed using the `del_contact(t,i,j)` method:"
     ]
    },
    {
     "cell_type": "code",
     "collapsed": false,
     "input": [
      "a.del_contact(4,5,2)"
     ],
     "language": "python",
     "metadata": {},
     "outputs": [],
     "prompt_number": 4
    },
    {
     "cell_type": "markdown",
     "metadata": {},
     "source": [
      "This can be also done in bunch using lists:"
     ]
    },
    {
     "cell_type": "code",
     "collapsed": false,
     "input": [
      "a.add_contacts([(2,3,2,1),(1,4,1,3)])\n",
      "a.del_contacts([(2,3,2),(1,4,1)])"
     ],
     "language": "python",
     "metadata": {},
     "outputs": [],
     "prompt_number": 5
    },
    {
     "cell_type": "markdown",
     "metadata": {},
     "source": [
      "The `out()` method returns the list of contacts sorted by time:"
     ]
    },
    {
     "cell_type": "code",
     "collapsed": false,
     "input": [
      "a.add_contacts([(2,3,2,1),(1,4,1,3)])\n",
      "a.out()"
     ],
     "language": "python",
     "metadata": {},
     "outputs": [
      {
       "metadata": {},
       "output_type": "pyout",
       "prompt_number": 6,
       "text": [
        "[(<RandTempNet.event instance at 0x7f20696cccb0>, 3),\n",
        " (<RandTempNet.event instance at 0x7f20696cca28>, 1)]"
       ]
      }
     ],
     "prompt_number": 6
    },
    {
     "cell_type": "markdown",
     "metadata": {},
     "source": [
      "The `display()` method returns the list of quadruplets `(t,i,j,tau)` sorted by time:"
     ]
    },
    {
     "cell_type": "code",
     "collapsed": false,
     "input": [
      "a.display()"
     ],
     "language": "python",
     "metadata": {},
     "outputs": [
      {
       "metadata": {},
       "output_type": "pyout",
       "prompt_number": 7,
       "text": [
        "[(1, 1, 4, 3), (2, 2, 3, 1)]"
       ]
      }
     ],
     "prompt_number": 7
    },
    {
     "cell_type": "markdown",
     "metadata": {},
     "source": [
      "###`snapshot_sequence(t_i,t_f,dt)`###\n",
      "The `snapshot_sequence()` class is one of the four representations for temporal networks used in this library. It consists in a dictionary of `snapshot()` objects, with time stamps as keys. A `snapshot_sequence()` object is created empty, between an initial time `t_i` and a final time `t_f`. It contains `(t_f - t_i)/dt` snapshots, where `dt` is the duration of a time step. The time stamp of the last snapshot is `t_f - dt`."
     ]
    },
    {
     "cell_type": "code",
     "collapsed": false,
     "input": [
      "a = rn.snapshot_sequence(0,10,2)"
     ],
     "language": "python",
     "metadata": {},
     "outputs": [],
     "prompt_number": 8
    },
    {
     "cell_type": "markdown",
     "metadata": {},
     "source": [
      "The dictionary of snapshots can assigned and accessed via the `data` attribute."
     ]
    },
    {
     "cell_type": "code",
     "collapsed": false,
     "input": [
      "a.data"
     ],
     "language": "python",
     "metadata": {},
     "outputs": [
      {
       "metadata": {},
       "output_type": "pyout",
       "prompt_number": 9,
       "text": [
        "{0: <RandTempNet.snapshot instance at 0x7f20696ccb00>,\n",
        " 2: <RandTempNet.snapshot instance at 0x7f20696cce60>,\n",
        " 4: <RandTempNet.snapshot instance at 0x7f20696cc758>,\n",
        " 6: <RandTempNet.snapshot instance at 0x7f20696cc5a8>,\n",
        " 8: <RandTempNet.snapshot instance at 0x7f20696cc638>}"
       ]
      }
     ],
     "prompt_number": 9
    },
    {
     "cell_type": "markdown",
     "metadata": {},
     "source": [
      "A snapshot can be updated using the `update_snapshot(t,list_link)` method using its time value `t` and a list of `link()` objects `list_link`:"
     ]
    },
    {
     "cell_type": "code",
     "collapsed": false,
     "input": [
      "a.update_snapshot(8,[rn.link(4,5),rn.link(3,6),rn.link(1,4)])\n",
      "a.update_snapshot(4,[rn.link(4,2),rn.link(1,2),rn.link(1,4)])"
     ],
     "language": "python",
     "metadata": {},
     "outputs": [],
     "prompt_number": 10
    },
    {
     "cell_type": "markdown",
     "metadata": {},
     "source": [
      "A snapshot can be cleared using the `clear_snapshot(t)` method and its time stamp value `t`:"
     ]
    },
    {
     "cell_type": "code",
     "collapsed": false,
     "input": [
      "a.clear_snapshot(8)"
     ],
     "language": "python",
     "metadata": {},
     "outputs": [],
     "prompt_number": 11
    },
    {
     "cell_type": "markdown",
     "metadata": {},
     "source": [
      "The `out()` method returns a list of tuples, each tuple being constituted of a time stamp and a list of `link()` objects:"
     ]
    },
    {
     "cell_type": "code",
     "collapsed": false,
     "input": [
      "a.out()"
     ],
     "language": "python",
     "metadata": {},
     "outputs": [
      {
       "metadata": {},
       "output_type": "pyout",
       "prompt_number": 12,
       "text": [
        "[(0, []),\n",
        " (2, []),\n",
        " (4,\n",
        "  [<RandTempNet.link instance at 0x7f20696ac560>,\n",
        "   <RandTempNet.link instance at 0x7f20696cc518>,\n",
        "   <RandTempNet.link instance at 0x7f20696ac638>]),\n",
        " (6, []),\n",
        " (8, [])]"
       ]
      }
     ],
     "prompt_number": 12
    },
    {
     "cell_type": "markdown",
     "metadata": {},
     "source": [
      "The `display()` method returns a list of tuples, each tuple being constituted of a time stamp and a list of tuples `(i,j)`."
     ]
    },
    {
     "cell_type": "code",
     "collapsed": false,
     "input": [
      "a.display()"
     ],
     "language": "python",
     "metadata": {},
     "outputs": [
      {
       "metadata": {},
       "output_type": "pyout",
       "prompt_number": 13,
       "text": [
        "[(0, []), (2, []), (4, [(1, 2), (2, 4), (1, 4)]), (6, []), (8, [])]"
       ]
      }
     ],
     "prompt_number": 13
    },
    {
     "cell_type": "markdown",
     "metadata": {},
     "source": [
      "###`link_timeline(list_lk=[],list_tl=[])`###\n",
      "The `link_timeline()` class is one of the four representations for temporal networks used in this library. It consists in a dictionary with `link()` objects as keys and sets of `contact()` objects as values. A `link_timeline()` object can be created empty or with an initial list of `link()` objects. In the second case, the list of contact timelines can also be specified."
     ]
    },
    {
     "cell_type": "code",
     "collapsed": false,
     "input": [
      "lks_data = rn.link_timeline()"
     ],
     "language": "python",
     "metadata": {},
     "outputs": [],
     "prompt_number": 11
    },
    {
     "cell_type": "code",
     "collapsed": false,
     "input": [
      "lks_data = rn.link_timeline([(0,1),(0,2),(1,3)])"
     ],
     "language": "python",
     "metadata": {},
     "outputs": [],
     "prompt_number": 4
    },
    {
     "cell_type": "code",
     "collapsed": false,
     "input": [
      "lks_data = rn.link_timeline([(0,1),(0,2),(1,3)],[[(0,1),(3,2)],[],[(0,3),(5,1),(7,3)]])"
     ],
     "language": "python",
     "metadata": {},
     "outputs": [],
     "prompt_number": 2
    },
    {
     "cell_type": "markdown",
     "metadata": {},
     "source": [
      "The data contained in the `link_timeline()` object can be accessed using the `data` attribute:"
     ]
    },
    {
     "cell_type": "code",
     "collapsed": false,
     "input": [
      "lks_data.data"
     ],
     "language": "python",
     "metadata": {},
     "outputs": [
      {
       "metadata": {},
       "output_type": "pyout",
       "prompt_number": 3,
       "text": [
        "{<RandTempNet.link instance at 0x7f4ae918c368>: {<RandTempNet.contact instance at 0x7f4ae916dd88>,\n",
        "  <RandTempNet.contact instance at 0x7f4ae916ddd0>},\n",
        " <RandTempNet.link instance at 0x7f4ae918c440>: set(),\n",
        " <RandTempNet.link instance at 0x7f4ae918cfc8>: {<RandTempNet.contact instance at 0x7f4ae918c098>,\n",
        "  <RandTempNet.contact instance at 0x7f4ae918c5f0>,\n",
        "  <RandTempNet.contact instance at 0x7f4ae918c758>}}"
       ]
      }
     ],
     "prompt_number": 3
    },
    {
     "cell_type": "markdown",
     "metadata": {},
     "source": [
      "The list of links can be directly accessed using the `links()` method:"
     ]
    },
    {
     "cell_type": "code",
     "collapsed": false,
     "input": [
      "lks_data.links()"
     ],
     "language": "python",
     "metadata": {},
     "outputs": [
      {
       "metadata": {},
       "output_type": "pyout",
       "prompt_number": 4,
       "text": [
        "[<RandTempNet.link instance at 0x7f4ae918c368>,\n",
        " <RandTempNet.link instance at 0x7f4ae918cfc8>,\n",
        " <RandTempNet.link instance at 0x7f4ae918c440>]"
       ]
      }
     ],
     "prompt_number": 4
    },
    {
     "cell_type": "markdown",
     "metadata": {},
     "source": [
      "It can be displayed using the `links_display()` method:"
     ]
    },
    {
     "cell_type": "code",
     "collapsed": false,
     "input": [
      "lks_data.links_display()"
     ],
     "language": "python",
     "metadata": {},
     "outputs": [
      {
       "metadata": {},
       "output_type": "pyout",
       "prompt_number": 5,
       "text": [
        "[(0, 1), (1, 3), (0, 2)]"
       ]
      }
     ],
     "prompt_number": 5
    },
    {
     "cell_type": "markdown",
     "metadata": {},
     "source": [
      "A link can be added to the `link_timeline()` object by using the `add_link(i,j,timeline=[])` method, where the `timeline` argument is optional:"
     ]
    },
    {
     "cell_type": "code",
     "collapsed": false,
     "input": [
      "lks_data.add_link(0,3)"
     ],
     "language": "python",
     "metadata": {},
     "outputs": [],
     "prompt_number": 9
    },
    {
     "cell_type": "code",
     "collapsed": false,
     "input": [
      "lks_data.add_link(0,3,[(1,4),(8,6)])"
     ],
     "language": "python",
     "metadata": {},
     "outputs": [],
     "prompt_number": 10
    },
    {
     "cell_type": "markdown",
     "metadata": {},
     "source": [
      "A link can be removed using the `del_link(i,j)` method:"
     ]
    },
    {
     "cell_type": "code",
     "collapsed": false,
     "input": [
      "lks_data.del_link(0,1)"
     ],
     "language": "python",
     "metadata": {},
     "outputs": [],
     "prompt_number": 11
    },
    {
     "cell_type": "markdown",
     "metadata": {},
     "source": [
      "Links can be added in bunch, with an optional list of associated timelines:"
     ]
    },
    {
     "cell_type": "code",
     "collapsed": false,
     "input": [
      "lks_data.add_links([(0,1),(0,2),(1,3)])\n",
      "lks_data.add_links([(0,1),(0,2),(1,3)],[[(0,1),(3,2)],[],[(0,3),(5,1),(7,3)]])"
     ],
     "language": "python",
     "metadata": {},
     "outputs": [],
     "prompt_number": 12
    },
    {
     "cell_type": "markdown",
     "metadata": {},
     "source": [
      "Links can also be remove in bunch:"
     ]
    },
    {
     "cell_type": "code",
     "collapsed": false,
     "input": [
      "lks_data.del_links([(0,1),(0,2),(1,3)])"
     ],
     "language": "python",
     "metadata": {},
     "outputs": [],
     "prompt_number": 13
    },
    {
     "cell_type": "markdown",
     "metadata": {},
     "source": [
      "Timeline are set using the `add_link` and `add_links` methods. For example, a timeline can be cleared using the following:"
     ]
    },
    {
     "cell_type": "code",
     "collapsed": false,
     "input": [
      "lks_data.add_link(0,2,[])"
     ],
     "language": "python",
     "metadata": {},
     "outputs": [],
     "prompt_number": 14
    },
    {
     "cell_type": "markdown",
     "metadata": {},
     "source": [
      "A contact can be added to a timeline using the `add_contact(i,j,t,tau)` method:"
     ]
    },
    {
     "cell_type": "code",
     "collapsed": false,
     "input": [
      "lks_data.add_contact(0,2,1,4)"
     ],
     "language": "python",
     "metadata": {},
     "outputs": [],
     "prompt_number": 15
    },
    {
     "cell_type": "markdown",
     "metadata": {},
     "source": [
      "A time of activation can be removed using the `del_contact(i,j,t,tau)` method:"
     ]
    },
    {
     "cell_type": "code",
     "collapsed": false,
     "input": [
      "lks_data.del_contact(0,2,1,4)"
     ],
     "language": "python",
     "metadata": {},
     "outputs": [],
     "prompt_number": 16
    },
    {
     "cell_type": "markdown",
     "metadata": {},
     "source": [
      "The `out()` method returns a list of tuples where the first element is a `link()` object and the second a list of contacts ordered in time:"
     ]
    },
    {
     "cell_type": "code",
     "collapsed": false,
     "input": [
      "lks_data.add_links([(0,1),(0,2),(1,3)],[[(0,1),(3,2)],[],[(0,3),(5,1),(7,3)]])\n",
      "lks_data.out()"
     ],
     "language": "python",
     "metadata": {},
     "outputs": [
      {
       "metadata": {},
       "output_type": "pyout",
       "prompt_number": 12,
       "text": [
        "[(<RandTempNet.link instance at 0x7fe76d266c68>,\n",
        "  [<RandTempNet.contact instance at 0x7fe76d266050>,\n",
        "   <RandTempNet.contact instance at 0x7fe76d266998>]),\n",
        " (<RandTempNet.link instance at 0x7fe76d2666c8>,\n",
        "  [<RandTempNet.contact instance at 0x7fe76d266170>,\n",
        "   <RandTempNet.contact instance at 0x7fe76d266908>,\n",
        "   <RandTempNet.contact instance at 0x7fe76d2668c0>]),\n",
        " (<RandTempNet.link instance at 0x7fe76d2661b8>, [])]"
       ]
      }
     ],
     "prompt_number": 12
    },
    {
     "cell_type": "markdown",
     "metadata": {},
     "source": [
      "The `display()` method returns a list of tuples where the first element is a `(i,j)` tuple and the second a list of tuples `(t,tau)` ordered in time:"
     ]
    },
    {
     "cell_type": "code",
     "collapsed": false,
     "input": [
      "lks_data.display()"
     ],
     "language": "python",
     "metadata": {},
     "outputs": [
      {
       "metadata": {},
       "output_type": "pyout",
       "prompt_number": 13,
       "text": [
        "[((0, 1), [(0, 1), (3, 2)]), ((1, 3), [(0, 3), (5, 1), (7, 3)]), ((0, 2), [])]"
       ]
      }
     ],
     "prompt_number": 13
    }
   ],
   "metadata": {}
  }
 ]
}