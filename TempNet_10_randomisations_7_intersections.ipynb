{
 "cells": [
  {
   "cell_type": "markdown",
   "metadata": {},
   "source": [
    "# Temporal Networks v1.0 #"
   ]
  },
  {
   "cell_type": "code",
   "execution_count": 8,
   "metadata": {},
   "outputs": [],
   "source": [
    "import sys\n",
    "sys.path.append(\"/home/genois/Bureau/tempnet/\")\n",
    "import numpy as np\n",
    "import matplotlib.pyplot as plt\n",
    "import networkx as nx\n",
    "import itertools as it"
   ]
  },
  {
   "cell_type": "code",
   "execution_count": 3,
   "metadata": {},
   "outputs": [],
   "source": [
    "import tempnet.utils as tnu\n",
    "import tempnet.measures as tnm\n",
    "import tempnet.randomisations as tnr"
   ]
  },
  {
   "cell_type": "markdown",
   "metadata": {},
   "source": [
    "## Intersections ##\n",
    "We here present randomisations that combine several aspects."
   ]
  },
  {
   "cell_type": "markdown",
   "metadata": {},
   "source": [
    "### Global event shuffling $\\text{P}[\\mathbf{w},\\mathbf{t}]$: `P__w_t(lks_data,dt)` ###\n",
    "This function shuffles events between existing links of a `link_timeline()` object `lks_data` while preserving the link weights. The time step duration `dt` is required.\n",
    "\n",
    "**Note:** This function returns a `tij()` object."
   ]
  },
  {
   "cell_type": "code",
   "execution_count": 4,
   "metadata": {},
   "outputs": [],
   "source": [
    "lks_data = tnu.read_link_timeline(\"/home/genois/Bureau/tempnet/lks_InVS13.dat\")\n",
    "new_tij = tnr.P__w_t(lks_data,1)\n",
    "new_lks = tnu.tijtau_to_link_timeline(tnu.tij_to_tijtau(new_tij,1))"
   ]
  },
  {
   "cell_type": "markdown",
   "metadata": {},
   "source": [
    "Test of the preservation of the weights:"
   ]
  },
  {
   "cell_type": "code",
   "execution_count": 5,
   "metadata": {},
   "outputs": [
    {
     "data": {
      "text/plain": [
       "True"
      ]
     },
     "execution_count": 5,
     "metadata": {},
     "output_type": "execute_result"
    }
   ],
   "source": [
    "w0 = tnm.weights(lks_data)\n",
    "w1 = tnm.weights(new_lks)\n",
    "Test = np.array([w0[lk] == w1[lk] for lk in lks_data.links()])\n",
    "Test.all()"
   ]
  },
  {
   "cell_type": "markdown",
   "metadata": {},
   "source": [
    "Test of the preservation of the activity timeline:"
   ]
  },
  {
   "cell_type": "code",
   "execution_count": 6,
   "metadata": {},
   "outputs": [
    {
     "data": {
      "image/png": "[encoded data removed]",
      "text/plain": [
       "<matplotlib.figure.Figure at 0x7fc70dd7a910>"
      ]
     },
     "metadata": {
      "needs_background": "light"
     },
     "output_type": "display_data"
    }
   ],
   "source": [
    "TL0 = tnm.activity_timeline(tnu.link_timeline_to_snapshot_sequence(lks_data,1,0,60480))\n",
    "TL1 = tnm.activity_timeline(tnu.link_timeline_to_snapshot_sequence(new_lks,1,0,60480))\n",
    "\n",
    "tmin = 1000\n",
    "tmax = 2000\n",
    "\n",
    "fig = plt.figure(figsize=(8,2))\n",
    "x = range(len(TL0))[tmin:tmax]\n",
    "plt.plot(x,TL0[tmin:tmax],'k-')\n",
    "plt.plot(x,TL1[tmin:tmax],'r-')\n",
    "plt.show()"
   ]
  },
  {
   "cell_type": "markdown",
   "metadata": {},
   "source": [
    "Test of the modification of $p_\\tau$:"
   ]
  },
  {
   "cell_type": "code",
   "execution_count": 9,
   "metadata": {},
   "outputs": [
    {
     "data": {
      "image/png": "[encoded data removed]",
      "text/plain": [
       "<matplotlib.figure.Figure at 0x7fc75971cd90>"
      ]
     },
     "metadata": {
      "needs_background": "light"
     },
     "output_type": "display_data"
    }
   ],
   "source": [
    "list_tau0 = tnm.contact_durations(lks_data)\n",
    "list_tau1 = tnm.contact_durations(new_lks)\n",
    "list_tau0 = list(it.chain(*list_tau0.values()))\n",
    "list_tau1 = list(it.chain(*list_tau1.values()))\n",
    "\n",
    "from math import log\n",
    "\n",
    "fig = plt.figure(figsize=(4,4))\n",
    "tmax = max(list_tau0)\n",
    "x = 2.**(np.arange(0,log(tmax)+1,0.5))\n",
    "h0 = np.histogram(list_tau0,bins=x)\n",
    "h1 = np.histogram(list_tau1,bins=x)\n",
    "plt.loglog(x[1:],h0[0],'ko')\n",
    "plt.loglog(x[1:],h1[0],'r^')\n",
    "plt.show()"
   ]
  },
  {
   "cell_type": "markdown",
   "metadata": {},
   "source": [
    "### Global contact shuffling $\\text{P}[\\mathcal{L},p(\\mathbf{t},\\tau)]$: `P__L_pttau(lks_data,dt)` ###\n",
    "This function shuffles contacts between existing links of a `link_timeline()` object `lks_data`. The time step duration `dt` is required."
   ]
  },
  {
   "cell_type": "code",
   "execution_count": 15,
   "metadata": {},
   "outputs": [],
   "source": [
    "lks_data = tnu.read_link_timeline(\"/home/genois/Bureau/tempnet/lks_InVS13.dat\")\n",
    "new_lks = tnr.P__L_pttau(lks_data,1)"
   ]
  },
  {
   "cell_type": "markdown",
   "metadata": {},
   "source": [
    "Test of the preservation of the $p_\\tau$:"
   ]
  },
  {
   "cell_type": "code",
   "execution_count": 17,
   "metadata": {},
   "outputs": [
    {
     "data": {
      "image/png": "[encoded data removed]",
      "text/plain": [
       "<matplotlib.figure.Figure at 0x7fc6fabd8310>"
      ]
     },
     "metadata": {
      "needs_background": "light"
     },
     "output_type": "display_data"
    }
   ],
   "source": [
    "list_tau0 = tnm.contact_durations(lks_data)\n",
    "list_tau1 = tnm.contact_durations(new_lks)\n",
    "list_tau0 = list(it.chain(*list_tau0.values()))\n",
    "list_tau1 = list(it.chain(*list_tau1.values()))\n",
    "\n",
    "fig = plt.figure(figsize=(4,4))\n",
    "tmax = max(list_tau0)\n",
    "x = 2.**(np.arange(0,log(tmax)+1,0.5))\n",
    "h0 = np.histogram(list_tau0,bins=x)\n",
    "h1 = np.histogram(list_tau1,bins=x)\n",
    "plt.loglog(x[1:],h0[0],'ko')\n",
    "plt.loglog(x[1:],h1[0],'r^')\n",
    "plt.show()"
   ]
  },
  {
   "cell_type": "markdown",
   "metadata": {},
   "source": [
    "Test of the preservation of the activity timeline:"
   ]
  },
  {
   "cell_type": "code",
   "execution_count": 19,
   "metadata": {},
   "outputs": [
    {
     "data": {
      "image/png": "[encoded data removed]",
      "text/plain": [
       "<matplotlib.figure.Figure at 0x7fc728001c50>"
      ]
     },
     "metadata": {
      "needs_background": "light"
     },
     "output_type": "display_data"
    }
   ],
   "source": [
    "TL0 = tnm.activity_timeline(tnu.link_timeline_to_snapshot_sequence(lks_data,1,0,60480))\n",
    "TL1 = tnm.activity_timeline(tnu.link_timeline_to_snapshot_sequence(new_lks,1,0,60480))\n",
    "\n",
    "tmin = 1000\n",
    "tmax = 2000\n",
    "\n",
    "fig = plt.figure(figsize=(8,2))\n",
    "x = range(len(TL0))[tmin:tmax]\n",
    "plt.plot(x,TL0[tmin:tmax],'k-')\n",
    "plt.plot(x,TL1[tmin:tmax],'r-')\n",
    "plt.show()"
   ]
  },
  {
   "cell_type": "markdown",
   "metadata": {},
   "source": [
    "Test of the modification of the weights distribution:"
   ]
  },
  {
   "cell_type": "code",
   "execution_count": 20,
   "metadata": {},
   "outputs": [
    {
     "data": {
      "image/png": "[encoded data removed]",
      "text/plain": [
       "<matplotlib.figure.Figure at 0x7fc70ca66150>"
      ]
     },
     "metadata": {
      "needs_background": "light"
     },
     "output_type": "display_data"
    }
   ],
   "source": [
    "list_w0 = tnm.weights(lks_data).values()\n",
    "list_w1 = tnm.weights(new_lks).values()\n",
    "\n",
    "fig = plt.figure(figsize=(4,4))\n",
    "wmax = max(list_w0)\n",
    "x = 2.**(np.arange(0,log(wmax)+1,0.5))\n",
    "h0 = np.histogram(list_w0,bins=x)\n",
    "h1 = np.histogram(list_w1,bins=x)\n",
    "plt.loglog(x[1:],h0[0],'ko')\n",
    "plt.loglog(x[1:],h1[0],'r^')\n",
    "plt.show()"
   ]
  },
  {
   "cell_type": "markdown",
   "metadata": {},
   "source": [
    "### Global contact shuffling with frequency preservation $\\text{P}[\\mathbf{n},p(\\mathbf{t},\\tau)]$: `P__n_pttau(lks_data,dt)` ###\n",
    "This function shuffles contacts between existing links of a `link_timeline()` object `lks_data` but preserves the frequencies. The time step duration `dt` is required."
   ]
  },
  {
   "cell_type": "code",
   "execution_count": 10,
   "metadata": {},
   "outputs": [],
   "source": [
    "lks_data = tnu.read_link_timeline(\"/home/genois/Bureau/tempnet/lks_InVS13.dat\")\n",
    "new_lks = tnr.P__n_pttau(lks_data,1)"
   ]
  },
  {
   "cell_type": "markdown",
   "metadata": {},
   "source": [
    "Test of the preservation of the frequencies:"
   ]
  },
  {
   "cell_type": "code",
   "execution_count": 11,
   "metadata": {},
   "outputs": [
    {
     "data": {
      "text/plain": [
       "True"
      ]
     },
     "execution_count": 11,
     "metadata": {},
     "output_type": "execute_result"
    }
   ],
   "source": [
    "n0 = tnm.number_of_contacts(lks_data)\n",
    "n1 = tnm.number_of_contacts(new_lks)\n",
    "Test = np.array([n0[lk] == n1[lk] for lk in lks_data.links()])\n",
    "Test.all()"
   ]
  },
  {
   "cell_type": "markdown",
   "metadata": {},
   "source": [
    "Test of the preservation of the activity timeline:"
   ]
  },
  {
   "cell_type": "code",
   "execution_count": 12,
   "metadata": {},
   "outputs": [
    {
     "data": {
      "image/png": "[encoded data removed]",
      "text/plain": [
       "<matplotlib.figure.Figure at 0x7fc73237d3d0>"
      ]
     },
     "metadata": {
      "needs_background": "light"
     },
     "output_type": "display_data"
    }
   ],
   "source": [
    "TL0 = tnm.activity_timeline(tnu.link_timeline_to_snapshot_sequence(lks_data,1,0,60480))\n",
    "TL1 = tnm.activity_timeline(tnu.link_timeline_to_snapshot_sequence(new_lks,1,0,60480))\n",
    "\n",
    "tmin = 1000\n",
    "tmax = 2000\n",
    "\n",
    "fig = plt.figure(figsize=(8,2))\n",
    "x = range(len(TL0))[tmin:tmax]\n",
    "plt.plot(x,TL0[tmin:tmax],'k-')\n",
    "plt.plot(x,TL1[tmin:tmax],'r-')\n",
    "plt.show()"
   ]
  },
  {
   "cell_type": "markdown",
   "metadata": {},
   "source": [
    "### Timeline permutation $\\text{P}[\\mathcal{L},p_\\mathcal{L}(\\Theta)]$: `P__L_pTheta(lks_data)` ###\n",
    "This function randomly permutates the timelines of a `link_timeline()` object `lks_data`."
   ]
  },
  {
   "cell_type": "code",
   "execution_count": 7,
   "metadata": {},
   "outputs": [],
   "source": [
    "lks_data = tnu.read_link_timeline(\"/home/genois/Bureau/tempnet/lks_InVS13.dat\")\n",
    "new_lks = tnr.P__L_pTheta(lks_data)"
   ]
  },
  {
   "cell_type": "code",
   "execution_count": 8,
   "metadata": {},
   "outputs": [
    {
     "name": "stdout",
     "output_type": "stream",
     "text": [
      "[(2869, 1)]\n",
      "[(2224, 1), (2226, 2), (2218, 1), (2231, 1)]\n"
     ]
    }
   ],
   "source": [
    "lk = lks_data.links()[0]\n",
    "old_tl = [c.display() for c in lks_data.data[lk]]\n",
    "new_tl = [c.display() for c in new_lks.data[lk]]\n",
    "print old_tl[:10]\n",
    "print new_tl[:10]"
   ]
  },
  {
   "cell_type": "markdown",
   "metadata": {},
   "source": [
    "### Timeline permutation with weight preservation $\\text{P}[\\mathbf{w},p_\\mathcal{L}(\\Theta)]$: `P__w_pTheta(lks_data)` ###\n",
    "This function randomly permutates the timelines of a `link_timeline()` object `lks_data`, but preserves their weights."
   ]
  },
  {
   "cell_type": "code",
   "execution_count": 3,
   "metadata": {},
   "outputs": [],
   "source": [
    "lks_data = tnu.read_link_timeline(\"/home/genois/Bureau/tempnet/lks_InVS13.dat\")\n",
    "new_lks = tnr.P__w_pTheta(lks_data)"
   ]
  },
  {
   "cell_type": "markdown",
   "metadata": {},
   "source": [
    "Test of the preservation of contact frequencies:"
   ]
  },
  {
   "cell_type": "code",
   "execution_count": 4,
   "metadata": {},
   "outputs": [
    {
     "data": {
      "text/plain": [
       "True"
      ]
     },
     "execution_count": 4,
     "metadata": {},
     "output_type": "execute_result"
    }
   ],
   "source": [
    "w0 = tnm.weights(lks_data)\n",
    "w1 = tnm.weights(new_lks)\n",
    "Test = np.array([w0[l] == w1[l] for l in w0])\n",
    "Test.all()"
   ]
  },
  {
   "cell_type": "code",
   "execution_count": 5,
   "metadata": {},
   "outputs": [
    {
     "name": "stdout",
     "output_type": "stream",
     "text": [
      "[(2869, 1)]\n",
      "[(2494, 1)]\n"
     ]
    }
   ],
   "source": [
    "lk = lks_data.links()[0]\n",
    "old_tl = [c.display() for c in lks_data.data[lk]]\n",
    "new_tl = [c.display() for c in new_lks.data[lk]]\n",
    "print old_tl[:10]\n",
    "print new_tl[:10]"
   ]
  },
  {
   "cell_type": "markdown",
   "metadata": {},
   "source": [
    "### Timeline permutation with contact frequency preservation $\\text{P}[\\mathbf{n},p_\\mathcal{L}(\\Theta)]$: `P__n_pTheta(lks_data)` ###\n",
    "This function randomly permutates the timelines of a `link_timeline()` object `lks_data`, but preserves their contact frequencies."
   ]
  },
  {
   "cell_type": "code",
   "execution_count": 3,
   "metadata": {},
   "outputs": [],
   "source": [
    "lks_data = tnu.read_link_timeline(\"/home/genois/Bureau/tempnet/lks_InVS13.dat\")\n",
    "new_lks = tnr.P__n_pTheta(lks_data)"
   ]
  },
  {
   "cell_type": "markdown",
   "metadata": {},
   "source": [
    "Test of the preservation of contact frequencies:"
   ]
  },
  {
   "cell_type": "code",
   "execution_count": 4,
   "metadata": {},
   "outputs": [
    {
     "data": {
      "text/plain": [
       "True"
      ]
     },
     "execution_count": 4,
     "metadata": {},
     "output_type": "execute_result"
    }
   ],
   "source": [
    "cont0 = tnm.number_of_contacts(lks_data)\n",
    "cont1 = tnm.number_of_contacts(new_lks)\n",
    "Test = np.array([cont0[l] == cont1[l] for l in cont0])\n",
    "Test.all()"
   ]
  },
  {
   "cell_type": "code",
   "execution_count": 5,
   "metadata": {},
   "outputs": [
    {
     "name": "stdout",
     "output_type": "stream",
     "text": [
      "[(2869, 1)]\n",
      "[(1489, 1)]\n"
     ]
    }
   ],
   "source": [
    "lk = lks_data.links()[0]\n",
    "old_tl = [c.display() for c in lks_data.data[lk]]\n",
    "new_tl = [c.display() for c in new_lks.data[lk]]\n",
    "print old_tl[:10]\n",
    "print new_tl[:10]"
   ]
  },
  {
   "cell_type": "code",
   "execution_count": null,
   "metadata": {},
   "outputs": [],
   "source": []
  }
 ],
 "metadata": {
  "kernelspec": {
   "display_name": "Python 2",
   "language": "python",
   "name": "python2"
  },
  "language_info": {
   "codemirror_mode": {
    "name": "ipython",
    "version": 2
   },
   "file_extension": ".py",
   "mimetype": "text/x-python",
   "name": "python",
   "nbconvert_exporter": "python",
   "pygments_lexer": "ipython2",
   "version": "2.7.15rc1"
  }
 },
 "nbformat": 4,
 "nbformat_minor": 1
}
