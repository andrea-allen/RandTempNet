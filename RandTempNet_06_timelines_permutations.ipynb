{
 "metadata": {
  "name": "",
  "signature": "sha256:63fbaeb9eabab9c1b5f94722a67a19198773a76e31ba58f78fea5016314d90dd"
 },
 "nbformat": 3,
 "nbformat_minor": 0,
 "worksheets": [
  {
   "cells": [
    {
     "cell_type": "markdown",
     "metadata": {},
     "source": [
      "#Random Temporal Networks v1.0#"
     ]
    },
    {
     "cell_type": "code",
     "collapsed": false,
     "input": [
      "import sys\n",
      "sys.path.append(\"/home/luffy/Bureau/Random/Library/\")\n",
      "import RandTempNet as rn\n",
      "import numpy as np\n",
      "import matplotlib.pyplot as plt\n",
      "import itertools as it"
     ],
     "language": "python",
     "metadata": {},
     "outputs": [],
     "prompt_number": 1
    },
    {
     "cell_type": "markdown",
     "metadata": {},
     "source": [
      "##Timeline permutations##\n",
      "We here present randomization techniques based that act on the timelines of contact of links in the static network. All functions take a `link_timeline()` object as input, and return a `link_timeline()` object.\n",
      "###Timeline permutation with contact frequency preservation $\\text{P}[\\mathbf{n},p(\\Theta)]$: `P__n_pTheta(lks_data)`###\n",
      "This function randomly permutates the timelines of a `link_timeline()` object `lks_data`, but preserves their contact frequencies."
     ]
    },
    {
     "cell_type": "code",
     "collapsed": false,
     "input": [
      "lks_data = rn.read_link_timeline(\"Bureau/Random/Library/lks_InVS13.dat\")\n",
      "new_lks = rn.P__n_pTheta(lks_data)"
     ],
     "language": "python",
     "metadata": {},
     "outputs": [],
     "prompt_number": 2
    },
    {
     "cell_type": "markdown",
     "metadata": {},
     "source": [
      "Test of the preservation of contact frequencies:"
     ]
    },
    {
     "cell_type": "code",
     "collapsed": false,
     "input": [
      "cont0 = rn.number_of_contacts(lks_data)\n",
      "cont1 = rn.number_of_contacts(new_lks)\n",
      "Test = np.array([cont0[l] == cont1[l] for l in cont0])\n",
      "Test.all()"
     ],
     "language": "python",
     "metadata": {},
     "outputs": [
      {
       "metadata": {},
       "output_type": "pyout",
       "prompt_number": 3,
       "text": [
        "True"
       ]
      }
     ],
     "prompt_number": 3
    },
    {
     "cell_type": "code",
     "collapsed": false,
     "input": [
      "lk = lks_data.links()[0]\n",
      "old_tl = [c.display() for c in lks_data.data[lk]]\n",
      "new_tl = [c.display() for c in new_lks.data[lk]]\n",
      "print old_tl[:10]\n",
      "print new_tl[:10]"
     ],
     "language": "python",
     "metadata": {},
     "outputs": [
      {
       "output_type": "stream",
       "stream": "stdout",
       "text": [
        "[(36172, 1), (37424, 2), (37429, 3), (31997, 1), (31987, 3), (37354, 1), (37427, 1), (42129, 1), (31992, 2)]\n",
        "[(37020, 5), (37018, 1), (37010, 5), (15924, 1), (15279, 1), (15273, 5), (15877, 1), (45476, 1), (15922, 1)]\n"
       ]
      }
     ],
     "prompt_number": 4
    },
    {
     "cell_type": "markdown",
     "metadata": {},
     "source": [
      "###Timeline permutation with weight preservation $\\text{P}[\\mathbf{w},p(\\Theta)]$: `P__w_pTheta(lks_data)`###\n",
      "This function randomly permutates the timelines of a `link_timeline()` object `lks_data`, but preserves their weights."
     ]
    },
    {
     "cell_type": "code",
     "collapsed": false,
     "input": [
      "lks_data = rn.read_link_timeline(\"Bureau/Random/Library/lks_InVS13.dat\")\n",
      "new_lks = rn.P__w_pTheta(lks_data)"
     ],
     "language": "python",
     "metadata": {},
     "outputs": [],
     "prompt_number": 5
    },
    {
     "cell_type": "markdown",
     "metadata": {},
     "source": [
      "Test of the preservation of contact frequencies:"
     ]
    },
    {
     "cell_type": "code",
     "collapsed": false,
     "input": [
      "w0 = rn.weights(lks_data)\n",
      "w1 = rn.weights(new_lks)\n",
      "Test = np.array([w0[l] == w1[l] for l in w0])\n",
      "Test.all()"
     ],
     "language": "python",
     "metadata": {},
     "outputs": [
      {
       "metadata": {},
       "output_type": "pyout",
       "prompt_number": 6,
       "text": [
        "True"
       ]
      }
     ],
     "prompt_number": 6
    },
    {
     "cell_type": "code",
     "collapsed": false,
     "input": [
      "lk = lks_data.links()[0]\n",
      "old_tl = [c.display() for c in lks_data.data[lk]]\n",
      "new_tl = [c.display() for c in new_lks.data[lk]]\n",
      "print old_tl[:10]\n",
      "print new_tl[:10]"
     ],
     "language": "python",
     "metadata": {},
     "outputs": [
      {
       "output_type": "stream",
       "stream": "stdout",
       "text": [
        "[(36172, 1), (37424, 2), (37429, 3), (31997, 1), (31987, 3), (37354, 1), (37427, 1), (42129, 1), (31992, 2)]\n",
        "[(6665, 1), (6983, 1), (5931, 2), (15017, 3), (6588, 2), (6693, 1), (15609, 2), (1925, 1), (5912, 1), (6569, 1)]\n"
       ]
      }
     ],
     "prompt_number": 7
    },
    {
     "cell_type": "markdown",
     "metadata": {},
     "source": [
      "###Timeline permutation $\\text{P}[G^\\text{stat},p(\\Theta)]$: `P__Gstat_pTheta(lks_data)`###\n",
      "This function randomly permutates the timelines of a `link_timeline()` object `lks_data`."
     ]
    },
    {
     "cell_type": "code",
     "collapsed": false,
     "input": [
      "lks_data = rn.read_link_timeline(\"Bureau/Random/Library/lks_InVS13.dat\")\n",
      "new_lks = rn.P__Gstat_pTheta(lks_data)"
     ],
     "language": "python",
     "metadata": {},
     "outputs": [],
     "prompt_number": 8
    },
    {
     "cell_type": "code",
     "collapsed": false,
     "input": [
      "lk = lks_data.links()[0]\n",
      "old_tl = [c.display() for c in lks_data.data[lk]]\n",
      "new_tl = [c.display() for c in new_lks.data[lk]]\n",
      "print old_tl[:10]\n",
      "print new_tl[:10]"
     ],
     "language": "python",
     "metadata": {},
     "outputs": [
      {
       "output_type": "stream",
       "stream": "stdout",
       "text": [
        "[(36172, 1), (37424, 2), (37429, 3), (31997, 1), (31987, 3), (37354, 1), (37427, 1), (42129, 1), (31992, 2)]\n",
        "[(2379, 1)]\n"
       ]
      }
     ],
     "prompt_number": 9
    },
    {
     "cell_type": "markdown",
     "metadata": {},
     "source": [
      "###Permutation of contacts and intercontacts within timelines with initial time $\\text{P}[\\pi_\\ell(\\tau),\\pi_\\ell(\\Delta \\tau),t_1]$: `P__pitau_pidtau_t1(lks_data)`###\n",
      "This function randomly permutates the contacts and intercontacts within each timeline of a `link_timeline()` object `lks_data` while keeping the initial time."
     ]
    },
    {
     "cell_type": "code",
     "collapsed": false,
     "input": [
      "lks_data = rn.read_link_timeline(\"Bureau/Random/Library/lks_InVS13.dat\")\n",
      "new_lks = rn.P__pitau_pidtau_t1(lks_data)"
     ],
     "language": "python",
     "metadata": {},
     "outputs": [],
     "prompt_number": 2
    },
    {
     "cell_type": "markdown",
     "metadata": {},
     "source": [
      "Test of the preservation of $\\pi_\\tau$ and $\\pi_{\\Delta\\tau}$:"
     ]
    },
    {
     "cell_type": "code",
     "collapsed": false,
     "input": [
      "dict_tau0 = rn.contact_durations(lks_data)\n",
      "dict_dtau0 = rn.intercontact_durations(lks_data)\n",
      "dict_tau1 = rn.contact_durations(new_lks)\n",
      "dict_dtau1 = rn.intercontact_durations(new_lks)\n",
      "#n0 = rn.number_of_contacts(lks_data)\n",
      "#n1 = rn.number_of_contacts(new_lks)\n",
      "Test_tau = np.array([set(dict_tau0[lk]) == set(dict_tau1[lk]) for lk in lks_data.links()])\n",
      "Test_dtau = np.array([set(dict_dtau0[lk]) == set(dict_dtau1[lk]) for lk in lks_data.links()])\n",
      "print Test_tau.all(),Test_dtau.all()"
     ],
     "language": "python",
     "metadata": {},
     "outputs": [
      {
       "output_type": "stream",
       "stream": "stdout",
       "text": [
        "True True\n"
       ]
      }
     ],
     "prompt_number": 4
    },
    {
     "cell_type": "markdown",
     "metadata": {},
     "source": [
      "Test of the modification of the activity timeline:"
     ]
    },
    {
     "cell_type": "code",
     "collapsed": false,
     "input": [
      "TL0 = rn.activity_timeline(rn.link_timeline_to_snapshot_sequence(lks_data,1,0,60480))\n",
      "TL1 = rn.activity_timeline(rn.link_timeline_to_snapshot_sequence(new_lks,1,0,60480))\n",
      "\n",
      "tmin = 1000\n",
      "tmax = 2000\n",
      "\n",
      "fig = plt.figure(figsize=(8,2))\n",
      "x = range(len(TL0))[tmin:tmax]\n",
      "plt.plot(x,TL0[tmin:tmax],'k-')\n",
      "plt.plot(x,TL1[tmin:tmax],'r-')\n",
      "plt.show()"
     ],
     "language": "python",
     "metadata": {},
     "outputs": [
      {
       "metadata": {},
       "output_type": "display_data",
       "png": "[encoded data removed]",
       "text": [
        "<matplotlib.figure.Figure at 0x7ff05729b2d0>"
       ]
      }
     ],
     "prompt_number": 6
    },
    {
     "cell_type": "markdown",
     "metadata": {},
     "source": [
      "###Permutation of contacts and intercontacts within timelines $\\text{P}[\\pi_\\ell(\\tau),\\pi_\\ell(\\Delta \\tau)]$: `P__pitau_pidtau(lks_data,t_i,t_f,dt)`###\n",
      "This function randomly permutates the contacts and intercontacts within each timeline of a `link_timeline()` object `lks_data`. The initial time step `t_i`, final time step `t_f` and time step duration `dt` are required."
     ]
    },
    {
     "cell_type": "code",
     "collapsed": false,
     "input": [
      "lks_data = rn.read_link_timeline(\"Bureau/Random/Library/lks_InVS13.dat\")\n",
      "new_lks = rn.P__pitau_pidtau(lks_data,0,60480,1)"
     ],
     "language": "python",
     "metadata": {},
     "outputs": [],
     "prompt_number": 2
    },
    {
     "cell_type": "markdown",
     "metadata": {},
     "source": [
      "Test of the preservation of the $\\pi_\\tau$ and $\\pi_{\\Delta\\tau}$:"
     ]
    },
    {
     "cell_type": "code",
     "collapsed": false,
     "input": [
      "dict_tau0 = rn.contact_durations(lks_data)\n",
      "dict_dtau0 = rn.intercontact_durations(lks_data)\n",
      "dict_tau1 = rn.contact_durations(new_lks)\n",
      "dict_dtau1 = rn.intercontact_durations(new_lks)\n",
      "Test_tau = np.array([set(dict_tau0[lk]) == set(dict_tau1[lk]) for lk in lks_data.links()])\n",
      "Test_dtau = np.array([set(dict_dtau0[lk]) == set(dict_dtau1[lk]) for lk in lks_data.links()])\n",
      "print Test_tau.all(),Test_dtau.all()"
     ],
     "language": "python",
     "metadata": {},
     "outputs": [
      {
       "output_type": "stream",
       "stream": "stdout",
       "text": [
        "True True\n"
       ]
      }
     ],
     "prompt_number": 4
    },
    {
     "cell_type": "markdown",
     "metadata": {},
     "source": [
      "Test of the modification of the activity timeline:"
     ]
    },
    {
     "cell_type": "code",
     "collapsed": false,
     "input": [
      "TL0 = rn.activity_timeline(rn.link_timeline_to_snapshot_sequence(lks_data,1,0,60480))\n",
      "TL1 = rn.activity_timeline(rn.link_timeline_to_snapshot_sequence(new_lks,1,0,60480))\n",
      "\n",
      "tmin = 1000\n",
      "tmax = 2000\n",
      "\n",
      "fig = plt.figure(figsize=(8,2))\n",
      "x = range(len(TL0))[tmin:tmax]\n",
      "plt.plot(x,TL0[tmin:tmax],'k-')\n",
      "plt.plot(x,TL1[tmin:tmax],'r-')\n",
      "plt.show()"
     ],
     "language": "python",
     "metadata": {},
     "outputs": [
      {
       "metadata": {},
       "output_type": "display_data",
       "png": "[encoded data removed]",
       "text": [
        "<matplotlib.figure.Figure at 0x7f149e77b350>"
       ]
      }
     ],
     "prompt_number": 6
    },
    {
     "cell_type": "markdown",
     "metadata": {},
     "source": [
      "###Permutation of contacts within timelines $\\text{P}[\\pi_\\ell(\\tau)]$: `P__pitau(lks_data,t_i,t_f,dt)`###\n",
      "This function randomly permutates the contacts within each timeline of a `link_timeline()` object `lks_data`, with new initial starting points chosen uniformly. The initial time step `t_i`, final time step `t_f` and time step duration `dt` are required."
     ]
    },
    {
     "cell_type": "code",
     "collapsed": false,
     "input": [
      "lks_data = rn.read_link_timeline(\"Bureau/Random/Library/lks_InVS13.dat\")\n",
      "new_lks = rn.P__pitau(lks_data,0,60480,1)"
     ],
     "language": "python",
     "metadata": {},
     "outputs": [],
     "prompt_number": 4
    },
    {
     "cell_type": "markdown",
     "metadata": {},
     "source": [
      "Test of the preservation of the $\\pi_\\tau$ and not preservation of $\\pi_{\\Delta\\tau}$:"
     ]
    },
    {
     "cell_type": "code",
     "collapsed": false,
     "input": [
      "dict_tau0 = rn.contact_durations(lks_data)\n",
      "dict_dtau0 = rn.intercontact_durations(lks_data)\n",
      "dict_tau1 = rn.contact_durations(new_lks)\n",
      "dict_dtau1 = rn.intercontact_durations(new_lks)\n",
      "Test_tau = np.array([set(dict_tau0[lk]) == set(dict_tau1[lk]) for lk in lks_data.links()])\n",
      "Test_dtau = np.array([set(dict_dtau0[lk]) == set(dict_dtau1[lk]) for lk in lks_data.links()])\n",
      "print Test_tau.all(),Test_dtau.all()"
     ],
     "language": "python",
     "metadata": {},
     "outputs": [
      {
       "output_type": "stream",
       "stream": "stdout",
       "text": [
        "True False\n"
       ]
      }
     ],
     "prompt_number": 5
    },
    {
     "cell_type": "markdown",
     "metadata": {},
     "source": [
      "Test of the modification of the activity timeline:"
     ]
    },
    {
     "cell_type": "code",
     "collapsed": false,
     "input": [
      "TL0 = rn.activity_timeline(rn.link_timeline_to_snapshot_sequence(lks_data,1,0,60480))\n",
      "TL1 = rn.activity_timeline(rn.link_timeline_to_snapshot_sequence(new_lks,1,0,60480))\n",
      "\n",
      "tmin = 1000\n",
      "tmax = 2000\n",
      "\n",
      "fig = plt.figure(figsize=(8,2))\n",
      "x = range(len(TL0))[tmin:tmax]\n",
      "plt.plot(x,TL0[tmin:tmax],'k-')\n",
      "plt.plot(x,TL1[tmin:tmax],'r-')\n",
      "plt.show()"
     ],
     "language": "python",
     "metadata": {},
     "outputs": [
      {
       "metadata": {},
       "output_type": "display_data",
       "png": "[encoded data removed]",
       "text": [
        "<matplotlib.figure.Figure at 0x7ff1bb9c8290>"
       ]
      }
     ],
     "prompt_number": 6
    },
    {
     "cell_type": "markdown",
     "metadata": {},
     "source": [
      "###Global contact shuffling with frequency preservation $\\text{P}[\\mathbf{n},p(\\tau),\\mathbf{E}]$: `P__n_ptau_E(lks_data,dt)`###\n",
      "This function shuffles contacts between existing links of a `link_timeline()` object `lks_data` but preserves the frequencies. The time step duration `dt` is required."
     ]
    },
    {
     "cell_type": "code",
     "collapsed": false,
     "input": [
      "lks_data = rn.read_link_timeline(\"Bureau/Random/Library/lks_InVS13.dat\")\n",
      "new_lks = rn.P__n_ptau_E(lks_data,1)"
     ],
     "language": "python",
     "metadata": {},
     "outputs": [],
     "prompt_number": 2
    },
    {
     "cell_type": "markdown",
     "metadata": {},
     "source": [
      "Test of the preservation of the frequencies:"
     ]
    },
    {
     "cell_type": "code",
     "collapsed": false,
     "input": [
      "n0 = rn.number_of_contacts(lks_data)\n",
      "n1 = rn.number_of_contacts(new_lks)\n",
      "Test = np.array([n0[lk] == n1[lk] for lk in lks_data.links()])\n",
      "Test.all()"
     ],
     "language": "python",
     "metadata": {},
     "outputs": [
      {
       "metadata": {},
       "output_type": "pyout",
       "prompt_number": 4,
       "text": [
        "True"
       ]
      }
     ],
     "prompt_number": 4
    },
    {
     "cell_type": "markdown",
     "metadata": {},
     "source": [
      "Test of the preservation of the activity timeline:"
     ]
    },
    {
     "cell_type": "code",
     "collapsed": false,
     "input": [
      "TL0 = rn.activity_timeline(rn.link_timeline_to_snapshot_sequence(lks_data,1,0,60480))\n",
      "TL1 = rn.activity_timeline(rn.link_timeline_to_snapshot_sequence(new_lks,1,0,60480))\n",
      "\n",
      "tmin = 1000\n",
      "tmax = 2000\n",
      "\n",
      "fig = plt.figure(figsize=(8,2))\n",
      "x = range(len(TL0))[tmin:tmax]\n",
      "plt.plot(x,TL0[tmin:tmax],'k-')\n",
      "plt.plot(x,TL1[tmin:tmax],'r-')\n",
      "plt.show()"
     ],
     "language": "python",
     "metadata": {},
     "outputs": [
      {
       "metadata": {},
       "output_type": "display_data",
       "png": "[encoded data removed]",
       "text": [
        "<matplotlib.figure.Figure at 0x7f140aa91a50>"
       ]
      }
     ],
     "prompt_number": 5
    },
    {
     "cell_type": "markdown",
     "metadata": {},
     "source": [
      "###Global contact shuffling $\\text{P}[p(\\tau),\\mathbf{E}]$: `P__ptau_E(lks_data,dt)`###\n",
      "This function shuffles contacts between existing links of a `link_timeline()` object `lks_data`. The time step duration `dt` is required."
     ]
    },
    {
     "cell_type": "code",
     "collapsed": false,
     "input": [
      "lks_data = rn.read_link_timeline(\"Bureau/Random/Library/lks_InVS13.dat\")\n",
      "new_lks = rn.P__ptau_E(lks_data,1)"
     ],
     "language": "python",
     "metadata": {},
     "outputs": [],
     "prompt_number": 6
    },
    {
     "cell_type": "markdown",
     "metadata": {},
     "source": [
      "Test of the preservation of the $p_\\tau$:"
     ]
    },
    {
     "cell_type": "code",
     "collapsed": false,
     "input": [
      "list_tau0 = rn.contact_durations(lks_data)\n",
      "list_tau1 = rn.contact_durations(new_lks)\n",
      "list_tau0 = list(it.chain(*list_tau0.values()))\n",
      "list_tau1 = list(it.chain(*list_tau1.values()))\n",
      "\n",
      "fig = plt.figure(figsize=(4,4))\n",
      "tmax = max(list_tau0)\n",
      "x = 2.**(np.arange(0,log(tmax)+1,0.5))\n",
      "h0 = np.histogram(list_tau0,bins=x)\n",
      "h1 = np.histogram(list_tau1,bins=x)\n",
      "plt.loglog(x[1:],h0[0],'ko')\n",
      "plt.loglog(x[1:],h1[0],'r^')\n",
      "plt.show()"
     ],
     "language": "python",
     "metadata": {},
     "outputs": [
      {
       "metadata": {},
       "output_type": "display_data",
       "png": "[encoded data removed]",
       "text": [
        "<matplotlib.figure.Figure at 0x7fe848bb4990>"
       ]
      }
     ],
     "prompt_number": 7
    },
    {
     "cell_type": "markdown",
     "metadata": {},
     "source": [
      "Test of the preservation of the activity timeline:"
     ]
    },
    {
     "cell_type": "code",
     "collapsed": false,
     "input": [
      "TL0 = rn.activity_timeline(rn.link_timeline_to_snapshot_sequence(lks_data,1,0,60480))\n",
      "TL1 = rn.activity_timeline(rn.link_timeline_to_snapshot_sequence(new_lks,1,0,60480))\n",
      "\n",
      "tmin = 1000\n",
      "tmax = 2000\n",
      "\n",
      "fig = plt.figure(figsize=(8,2))\n",
      "x = range(len(TL0))[tmin:tmax]\n",
      "plt.plot(x,TL0[tmin:tmax],'k-')\n",
      "plt.plot(x,TL1[tmin:tmax],'r-')\n",
      "plt.show()"
     ],
     "language": "python",
     "metadata": {},
     "outputs": [
      {
       "metadata": {},
       "output_type": "display_data",
       "png": "[encoded data removed]",
       "text": [
        "<matplotlib.figure.Figure at 0x7fe848e297d0>"
       ]
      }
     ],
     "prompt_number": 8
    },
    {
     "cell_type": "markdown",
     "metadata": {},
     "source": [
      "Test of the modification of the weights distribution:"
     ]
    },
    {
     "cell_type": "code",
     "collapsed": false,
     "input": [
      "list_w0 = rn.weights(lks_data).values()\n",
      "list_w1 = rn.weights(new_lks).values()\n",
      "\n",
      "fig = plt.figure(figsize=(4,4))\n",
      "wmax = max(list_w0)\n",
      "x = 2.**(np.arange(0,log(wmax)+1,0.5))\n",
      "h0 = np.histogram(list_w0,bins=x)\n",
      "h1 = np.histogram(list_w1,bins=x)\n",
      "plt.loglog(x[1:],h0[0],'ko')\n",
      "plt.loglog(x[1:],h1[0],'r^')\n",
      "plt.show()"
     ],
     "language": "python",
     "metadata": {},
     "outputs": [
      {
       "metadata": {},
       "output_type": "display_data",
       "png": "[encoded data removed]",
       "text": [
        "<matplotlib.figure.Figure at 0x7fe848f3fd50>"
       ]
      }
     ],
     "prompt_number": 9
    },
    {
     "cell_type": "markdown",
     "metadata": {},
     "source": [
      "###Global event shuffling $\\text{P}[\\mathbf{w},\\mathbf{E}]$: `P__w_E(lks_data,dt)`###\n",
      "This function shuffles events between existing links of a `link_timeline()` object `lks_data`. The time step duration `dt` is required.\n",
      "\n",
      "**Note:** This function returns a `tij()` object."
     ]
    },
    {
     "cell_type": "code",
     "collapsed": false,
     "input": [
      "lks_data = rn.read_link_timeline(\"Bureau/Random/Library/lks_InVS13.dat\")\n",
      "new_tij = rn.P__w_E(lks_data,1)\n",
      "new_lks = rn.tijtau_to_link_timeline(rn.tij_to_tijtau(new_tij,1))"
     ],
     "language": "python",
     "metadata": {},
     "outputs": [],
     "prompt_number": 3
    },
    {
     "cell_type": "markdown",
     "metadata": {},
     "source": [
      "Test of the preservation of the weights:"
     ]
    },
    {
     "cell_type": "code",
     "collapsed": false,
     "input": [
      "w0 = rn.weights(lks_data)\n",
      "w1 = rn.weights(new_lks)\n",
      "Test = np.array([w0[lk] == w1[lk] for lk in lks_data.links()])\n",
      "Test.all()"
     ],
     "language": "python",
     "metadata": {},
     "outputs": [
      {
       "metadata": {},
       "output_type": "pyout",
       "prompt_number": 5,
       "text": [
        "True"
       ]
      }
     ],
     "prompt_number": 5
    },
    {
     "cell_type": "markdown",
     "metadata": {},
     "source": [
      "Test of the preservation of the activity timeline:"
     ]
    },
    {
     "cell_type": "code",
     "collapsed": false,
     "input": [
      "TL0 = rn.activity_timeline(rn.link_timeline_to_snapshot_sequence(lks_data,1,0,60480))\n",
      "TL1 = rn.activity_timeline(rn.link_timeline_to_snapshot_sequence(new_lks,1,0,60480))\n",
      "\n",
      "tmin = 1000\n",
      "tmax = 2000\n",
      "\n",
      "fig = plt.figure(figsize=(8,2))\n",
      "x = range(len(TL0))[tmin:tmax]\n",
      "plt.plot(x,TL0[tmin:tmax],'k-')\n",
      "plt.plot(x,TL1[tmin:tmax],'r-')\n",
      "plt.show()"
     ],
     "language": "python",
     "metadata": {},
     "outputs": [
      {
       "metadata": {},
       "output_type": "display_data",
       "png": "[encoded data removed]",
       "text": [
        "<matplotlib.figure.Figure at 0x7fa9e0f08650>"
       ]
      }
     ],
     "prompt_number": 6
    },
    {
     "cell_type": "markdown",
     "metadata": {},
     "source": [
      "Test of the modification of $p_\\tau$:"
     ]
    },
    {
     "cell_type": "code",
     "collapsed": false,
     "input": [
      "list_tau0 = rn.contact_durations(lks_data)\n",
      "list_tau1 = rn.contact_durations(new_lks)\n",
      "list_tau0 = list(it.chain(*list_tau0.values()))\n",
      "list_tau1 = list(it.chain(*list_tau1.values()))\n",
      "\n",
      "fig = plt.figure(figsize=(4,4))\n",
      "tmax = max(list_tau0)\n",
      "x = 2.**(np.arange(0,log(tmax)+1,0.5))\n",
      "h0 = np.histogram(list_tau0,bins=x)\n",
      "h1 = np.histogram(list_tau1,bins=x)\n",
      "plt.loglog(x[1:],h0[0],'ko')\n",
      "plt.loglog(x[1:],h1[0],'r^')\n",
      "plt.show()"
     ],
     "language": "python",
     "metadata": {},
     "outputs": [
      {
       "metadata": {},
       "output_type": "display_data",
       "png": "[encoded data removed]",
       "text": [
        "<matplotlib.figure.Figure at 0x7fa9e1f47650>"
       ]
      }
     ],
     "prompt_number": 7
    },
    {
     "cell_type": "markdown",
     "metadata": {},
     "source": [
      "###Events permutation with weigths, initial time and final time preservation $\\text{P}[\\mathbf{w},\\mathbf{t}^1,\\mathbf{t}^w]$: `P__w_t1_tw(lks_data,t_i,t_f,dt)`###\n",
      "This function randomly assigns time stamps of $w$ events between `t1` and `tw` for every timeline of a `link_timeline()` object `lks_data`. The initial time step `t_i`, final time step `t_f` and time step duration `dt` are required.\n",
      "\n",
      "**Note:** This function returns a `tij()` object."
     ]
    },
    {
     "cell_type": "code",
     "collapsed": false,
     "input": [
      "lks_data = rn.read_link_timeline(\"Bureau/Random/Library/lks_InVS13.dat\")\n",
      "new_tij = rn.P__w_t1_tw(lks_data,0,60480,1)\n",
      "new_lks = rn.tijtau_to_link_timeline(rn.tij_to_tijtau(new_tij,1))"
     ],
     "language": "python",
     "metadata": {},
     "outputs": [],
     "prompt_number": 2
    },
    {
     "cell_type": "markdown",
     "metadata": {},
     "source": [
      "Test of the preservation of the weights:"
     ]
    },
    {
     "cell_type": "code",
     "collapsed": false,
     "input": [
      "w0 = rn.weights(lks_data)\n",
      "w1 = rn.weights(new_lks)\n",
      "Test = np.array([w0[lk] == w1[lk] for lk in lks_data.links()])\n",
      "Test.all()"
     ],
     "language": "python",
     "metadata": {},
     "outputs": [
      {
       "metadata": {},
       "output_type": "pyout",
       "prompt_number": 3,
       "text": [
        "True"
       ]
      }
     ],
     "prompt_number": 3
    },
    {
     "cell_type": "markdown",
     "metadata": {},
     "source": [
      "Test of the modification of the activity timeline:"
     ]
    },
    {
     "cell_type": "code",
     "collapsed": false,
     "input": [
      "TL0 = rn.activity_timeline(rn.link_timeline_to_snapshot_sequence(lks_data,1,0,60480))\n",
      "TL1 = rn.activity_timeline(rn.link_timeline_to_snapshot_sequence(new_lks,1,0,60480))\n",
      "\n",
      "tmin = 1000\n",
      "tmax = 2000\n",
      "\n",
      "fig = plt.figure(figsize=(8,2))\n",
      "x = range(len(TL0))[tmin:tmax]\n",
      "plt.plot(x,TL0[tmin:tmax],'k-')\n",
      "plt.plot(x,TL1[tmin:tmax],'r-')\n",
      "plt.show()"
     ],
     "language": "python",
     "metadata": {},
     "outputs": [
      {
       "metadata": {},
       "output_type": "display_data",
       "png": "[encoded data removed]",
       "text": [
        "<matplotlib.figure.Figure at 0x7f18365bc5d0>"
       ]
      }
     ],
     "prompt_number": 4
    },
    {
     "cell_type": "markdown",
     "metadata": {},
     "source": [
      "###Events permutation with weigths preservation $\\text{P}[\\mathbf{w}]$: `P__w(lks_data,t_i,t_f,dt)`###\n",
      "This function randomly assigns time stamps of $w$ events between `t_i` and `t_f` for every timeline of a `link_timeline()` object `lks_data`. The initial time step `t_i`, final time step `t_f` and time step duration `dt` are required.\n",
      "\n",
      "**Note:** This function returns a `tij()` object."
     ]
    },
    {
     "cell_type": "code",
     "collapsed": false,
     "input": [
      "lks_data = rn.read_link_timeline(\"Bureau/Random/Library/lks_InVS13.dat\")\n",
      "new_tij = rn.P__w(lks_data,0,60480,1)\n",
      "new_lks = rn.tijtau_to_link_timeline(rn.tij_to_tijtau(new_tij,1))"
     ],
     "language": "python",
     "metadata": {},
     "outputs": [],
     "prompt_number": 2
    },
    {
     "cell_type": "markdown",
     "metadata": {},
     "source": [
      "Test of the preservation of the weights:"
     ]
    },
    {
     "cell_type": "code",
     "collapsed": false,
     "input": [
      "w0 = rn.weights(lks_data)\n",
      "w1 = rn.weights(new_lks)\n",
      "Test = np.array([w0[lk] == w1[lk] for lk in lks_data.links()])\n",
      "Test.all()"
     ],
     "language": "python",
     "metadata": {},
     "outputs": [
      {
       "metadata": {},
       "output_type": "pyout",
       "prompt_number": 3,
       "text": [
        "True"
       ]
      }
     ],
     "prompt_number": 3
    },
    {
     "cell_type": "markdown",
     "metadata": {},
     "source": [
      "Test of the modification of the activity timeline:"
     ]
    },
    {
     "cell_type": "code",
     "collapsed": false,
     "input": [
      "TL0 = rn.activity_timeline(rn.link_timeline_to_snapshot_sequence(lks_data,1,0,60480))\n",
      "TL1 = rn.activity_timeline(rn.link_timeline_to_snapshot_sequence(new_lks,1,0,60480))\n",
      "\n",
      "tmin = 1000\n",
      "tmax = 2000\n",
      "\n",
      "fig = plt.figure(figsize=(8,2))\n",
      "x = range(len(TL0))[tmin:tmax]\n",
      "plt.plot(x,TL0[tmin:tmax],'k-')\n",
      "plt.plot(x,TL1[tmin:tmax],'r-')\n",
      "plt.show()"
     ],
     "language": "python",
     "metadata": {},
     "outputs": [
      {
       "metadata": {},
       "output_type": "display_data",
       "png": "[encoded data removed]",
       "text": [
        "<matplotlib.figure.Figure at 0x7fddb048d790>"
       ]
      }
     ],
     "prompt_number": 4
    },
    {
     "cell_type": "markdown",
     "metadata": {},
     "source": [
      "###Events permutation $\\text{P}[G^\\text{stat}]$: `P__Gstat(lks_data,t_i,t_f,dt)`###\n",
      "This function randomly permutates the time stamps of events between `t_i` and `t_f` and among all timelines of a `link_timeline()` object `lks_data`. The initial time step `t_i`, final time step `t_f` and time step duration `dt` are required.\n",
      "\n",
      "**Note:** This function returns a `tij()` object."
     ]
    },
    {
     "cell_type": "code",
     "collapsed": false,
     "input": [
      "lks_data = rn.read_link_timeline(\"Bureau/Random/Library/lks_InVS13.dat\")\n",
      "new_tij = rn.P__Gstat(lks_data,0,60480,1)\n",
      "new_lks = rn.tijtau_to_link_timeline(rn.tij_to_tijtau(new_tij,1))"
     ],
     "language": "python",
     "metadata": {},
     "outputs": [],
     "prompt_number": 2
    },
    {
     "cell_type": "markdown",
     "metadata": {},
     "source": [
      "Test of the preservation of the total number of events:"
     ]
    },
    {
     "cell_type": "code",
     "collapsed": false,
     "input": [
      "nC0 = sum(rn.weights(lks_data).values())\n",
      "nC1 = sum(rn.weights(new_lks).values())\n",
      "nC0 == nC1"
     ],
     "language": "python",
     "metadata": {},
     "outputs": [
      {
       "metadata": {},
       "output_type": "pyout",
       "prompt_number": 3,
       "text": [
        "True"
       ]
      }
     ],
     "prompt_number": 3
    },
    {
     "cell_type": "markdown",
     "metadata": {},
     "source": [
      "Test of the modification of the activity timeline:"
     ]
    },
    {
     "cell_type": "code",
     "collapsed": false,
     "input": [
      "TL0 = rn.activity_timeline(rn.link_timeline_to_snapshot_sequence(lks_data,1,0,60480))\n",
      "TL1 = rn.activity_timeline(rn.link_timeline_to_snapshot_sequence(new_lks,1,0,60480))\n",
      "\n",
      "tmin = 1000\n",
      "tmax = 2000\n",
      "\n",
      "fig = plt.figure(figsize=(8,2))\n",
      "x = range(len(TL0))[tmin:tmax]\n",
      "plt.plot(x,TL0[tmin:tmax],'k-')\n",
      "plt.plot(x,TL1[tmin:tmax],'r-')\n",
      "plt.show()"
     ],
     "language": "python",
     "metadata": {},
     "outputs": [
      {
       "metadata": {},
       "output_type": "display_data",
       "png": "[encoded data removed]",
       "text": [
        "<matplotlib.figure.Figure at 0x7fcf65ed9650>"
       ]
      }
     ],
     "prompt_number": 4
    },
    {
     "cell_type": "markdown",
     "metadata": {},
     "source": [
      "###Offset shuffling $\\text{P}[\\tau,\\Delta\\tau]$: `P__tau_dtau(lks_data,t_i,t_f,dt)`###\n",
      "This function randomly offsets the time stamps of all contacts of a timeline within $[t_i,t_f]$, for each timeline of a `link_timeline()` object `lks_data`. The initial time step `t_i`, final time step `t_f` and time step duration `dt` are required."
     ]
    },
    {
     "cell_type": "code",
     "collapsed": false,
     "input": [
      "lks_data = rn.read_link_timeline(\"Bureau/Random/Library/lks_InVS13.dat\")\n",
      "new_lks = rn.P__tau_dtau(lks_data,0,60480,1)"
     ],
     "language": "python",
     "metadata": {},
     "outputs": [],
     "prompt_number": 2
    },
    {
     "cell_type": "markdown",
     "metadata": {},
     "source": [
      "Test of the modification of the activity timeline:"
     ]
    },
    {
     "cell_type": "code",
     "collapsed": false,
     "input": [
      "TL0 = rn.activity_timeline(rn.link_timeline_to_snapshot_sequence(lks_data,1,0,60480))\n",
      "TL1 = rn.activity_timeline(rn.link_timeline_to_snapshot_sequence(new_lks,1,0,60480))\n",
      "\n",
      "tmin = 1000\n",
      "tmax = 2000\n",
      "\n",
      "fig = plt.figure(figsize=(8,2))\n",
      "x = range(len(TL0))[tmin:tmax]\n",
      "plt.plot(x,TL0[tmin:tmax],'k-')\n",
      "plt.plot(x,TL1[tmin:tmax],'r-')\n",
      "plt.show()"
     ],
     "language": "python",
     "metadata": {},
     "outputs": [
      {
       "metadata": {},
       "output_type": "display_data",
       "png": "[encoded data removed]",
       "text": [
        "<matplotlib.figure.Figure at 0x7fd86e036650>"
       ]
      }
     ],
     "prompt_number": 3
    },
    {
     "cell_type": "markdown",
     "metadata": {},
     "source": [
      "###Periodic boundary offset shuffling $\\text{P}[\\text{per}_\\ell(\\Theta)]$: `P__perTheta(lks_data,t_i,t_f,dt)`###\n",
      "This function randomly offsets the time stamps of all contacts of a timeline, for each timeline of a `link_timeline()` object `lks_data`, with periodic boundary conditions between $t_i$ and $t_f$. The initial time step `t_i`, final time step `t_f` and time step duration `dt` are required."
     ]
    },
    {
     "cell_type": "code",
     "collapsed": false,
     "input": [
      "lks_data = rn.read_link_timeline(\"Bureau/Random/Library/lks_InVS13.dat\")\n",
      "new_lks = rn.P__perTheta(lks_data,0,60480,1)"
     ],
     "language": "python",
     "metadata": {},
     "outputs": [],
     "prompt_number": 2
    },
    {
     "cell_type": "markdown",
     "metadata": {},
     "source": [
      "Test of the modification of the activity timeline:"
     ]
    },
    {
     "cell_type": "code",
     "collapsed": false,
     "input": [
      "TL0 = rn.activity_timeline(rn.link_timeline_to_snapshot_sequence(lks_data,1,0,60480))\n",
      "TL1 = rn.activity_timeline(rn.link_timeline_to_snapshot_sequence(new_lks,1,0,60480))\n",
      "\n",
      "tmin = 1000\n",
      "tmax = 2000\n",
      "\n",
      "fig = plt.figure(figsize=(8,2))\n",
      "x = range(len(TL0))[tmin:tmax]\n",
      "plt.plot(x,TL0[tmin:tmax],'k-')\n",
      "plt.plot(x,TL1[tmin:tmax],'r-')\n",
      "plt.show()"
     ],
     "language": "python",
     "metadata": {},
     "outputs": [
      {
       "metadata": {},
       "output_type": "display_data",
       "png": "[encoded data removed]",
       "text": [
        "<matplotlib.figure.Figure at 0x7fdf93e18750>"
       ]
      }
     ],
     "prompt_number": 3
    },
    {
     "cell_type": "code",
     "collapsed": false,
     "input": [],
     "language": "python",
     "metadata": {},
     "outputs": []
    }
   ],
   "metadata": {}
  }
 ]
}