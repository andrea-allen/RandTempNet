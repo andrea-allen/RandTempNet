{
 "cells": [
  {
   "cell_type": "markdown",
   "metadata": {},
   "source": [
    "# Temporal Networks v1.0 #"
   ]
  },
  {
   "cell_type": "code",
   "execution_count": 1,
   "metadata": {},
   "outputs": [],
   "source": [
    "import sys\n",
    "sys.path.append(\"/home/genois/Bureau/tempnet/\")\n",
    "import numpy as np\n",
    "import matplotlib.pyplot as plt\n",
    "import itertools as it"
   ]
  },
  {
   "cell_type": "code",
   "execution_count": 2,
   "metadata": {},
   "outputs": [],
   "source": [
    "import tempnet.utils as tnu\n",
    "import tempnet.measures as tnm\n",
    "import tempnet.randomisations as tnr"
   ]
  },
  {
   "cell_type": "markdown",
   "metadata": {},
   "source": [
    "## Timeline shuffling - instant-events ##\n",
    "We here present randomization techniques which shuffle the timelines of contact of links in the static network, for instant-events temporal networks. All functions take a `link_timeline()` object as input, and return a `link_timeline()` object."
   ]
  },
  {
   "cell_type": "markdown",
   "metadata": {},
   "source": [
    "### Events permutation $\\text{P}[\\mathcal{L}]$: `P__L(lks_data,t_i,t_f,dt)` ###\n",
    "This function randomly permutates the time stamps of events between `t_i` and `t_f` and among all timelines of a `link_timeline()` object `lks_data`. The initial time step `t_i`, final time step `t_f` and time step duration `dt` are required.\n",
    "\n",
    "**Note:** This function returns a `tij()` object."
   ]
  },
  {
   "cell_type": "code",
   "execution_count": 4,
   "metadata": {},
   "outputs": [],
   "source": [
    "lks_data = tnu.read_link_timeline(\"/home/genois/Bureau/tempnet/lks_InVS13.dat\")\n",
    "new_tij = tnr.P__L(lks_data,0,60480,1)\n",
    "new_lks = tnu.tijtau_to_link_timeline(tnu.tij_to_tijtau(new_tij,1))"
   ]
  },
  {
   "cell_type": "markdown",
   "metadata": {},
   "source": [
    "Test of the preservation of the total number of events:"
   ]
  },
  {
   "cell_type": "code",
   "execution_count": 5,
   "metadata": {},
   "outputs": [
    {
     "data": {
      "text/plain": [
       "True"
      ]
     },
     "execution_count": 5,
     "metadata": {},
     "output_type": "execute_result"
    }
   ],
   "source": [
    "nC0 = sum(tnm.weights(lks_data).values())\n",
    "nC1 = sum(tnm.weights(new_lks).values())\n",
    "nC0 == nC1"
   ]
  },
  {
   "cell_type": "markdown",
   "metadata": {},
   "source": [
    "Test of the modification of the activity timeline:"
   ]
  },
  {
   "cell_type": "code",
   "execution_count": 6,
   "metadata": {},
   "outputs": [
    {
     "data": {
      "image/png": "[encoded data removed]",
      "text/plain": [
       "<matplotlib.figure.Figure at 0x7f55f63e04d0>"
      ]
     },
     "metadata": {
      "needs_background": "light"
     },
     "output_type": "display_data"
    }
   ],
   "source": [
    "TL0 = tnm.activity_timeline(tnu.link_timeline_to_snapshot_sequence(lks_data,1,0,60480))\n",
    "TL1 = tnm.activity_timeline(tnu.link_timeline_to_snapshot_sequence(new_lks,1,0,60480))\n",
    "\n",
    "tmin = 1000\n",
    "tmax = 2000\n",
    "\n",
    "fig = plt.figure(figsize=(8,2))\n",
    "x = range(len(TL0))[tmin:tmax]\n",
    "plt.plot(x,TL0[tmin:tmax],'k-')\n",
    "plt.plot(x,TL1[tmin:tmax],'r-')\n",
    "plt.show()"
   ]
  },
  {
   "cell_type": "markdown",
   "metadata": {},
   "source": [
    "### Events permutation with weigths preservation $\\text{P}[\\mathbf{w}]$: `P__w(lks_data,t_i,t_f,dt)` ###\n",
    "This function randomly assigns time stamps of $w$ events between `t_i` and `t_f` for every timeline of a `link_timeline()` object `lks_data`. The initial time step `t_i`, final time step `t_f` and time step duration `dt` are required.\n",
    "\n",
    "**Note:** This function returns a `tij()` object."
   ]
  },
  {
   "cell_type": "code",
   "execution_count": 3,
   "metadata": {},
   "outputs": [],
   "source": [
    "lks_data = tnu.read_link_timeline(\"/home/genois/Bureau/tempnet/lks_InVS13.dat\")\n",
    "new_tij = tnr.P__w(lks_data,0,60480,1)\n",
    "new_lks = tnu.tijtau_to_link_timeline(tnu.tij_to_tijtau(new_tij,1))"
   ]
  },
  {
   "cell_type": "markdown",
   "metadata": {},
   "source": [
    "Test of the preservation of the weights:"
   ]
  },
  {
   "cell_type": "code",
   "execution_count": 4,
   "metadata": {},
   "outputs": [
    {
     "data": {
      "text/plain": [
       "True"
      ]
     },
     "execution_count": 4,
     "metadata": {},
     "output_type": "execute_result"
    }
   ],
   "source": [
    "w0 = tnm.weights(lks_data)\n",
    "w1 = tnm.weights(new_lks)\n",
    "Test = np.array([w0[lk] == w1[lk] for lk in lks_data.links()])\n",
    "Test.all()"
   ]
  },
  {
   "cell_type": "markdown",
   "metadata": {},
   "source": [
    "Test of the modification of the activity timeline:"
   ]
  },
  {
   "cell_type": "code",
   "execution_count": 5,
   "metadata": {},
   "outputs": [
    {
     "data": {
      "image/png": "[encoded data removed]",
      "text/plain": [
       "<matplotlib.figure.Figure at 0x7f4c5bb08f90>"
      ]
     },
     "metadata": {
      "needs_background": "light"
     },
     "output_type": "display_data"
    }
   ],
   "source": [
    "TL0 = tnm.activity_timeline(tnu.link_timeline_to_snapshot_sequence(lks_data,1,0,60480))\n",
    "TL1 = tnm.activity_timeline(tnu.link_timeline_to_snapshot_sequence(new_lks,1,0,60480))\n",
    "\n",
    "tmin = 1000\n",
    "tmax = 2000\n",
    "\n",
    "fig = plt.figure(figsize=(8,2))\n",
    "x = range(len(TL0))[tmin:tmax]\n",
    "plt.plot(x,TL0[tmin:tmax],'k-')\n",
    "plt.plot(x,TL1[tmin:tmax],'r-')\n",
    "plt.show()"
   ]
  },
  {
   "cell_type": "markdown",
   "metadata": {},
   "source": [
    "### Events permutation with weigths, initial time and final time preservation $\\text{P}[\\mathbf{w},\\mathbf{t}^1,\\mathbf{t}^w]$: `P__w_t1_tw(lks_data,t_i,t_f,dt)` ###\n",
    "This function randomly assigns time stamps of $w$ events between `t1` and `tw` for every timeline of a `link_timeline()` object `lks_data`. The initial time step `t_i`, final time step `t_f` and time step duration `dt` are required.\n",
    "\n",
    "**Note:** This function returns a `tij()` object."
   ]
  },
  {
   "cell_type": "code",
   "execution_count": 3,
   "metadata": {},
   "outputs": [],
   "source": [
    "lks_data = tnu.read_link_timeline(\"/home/genois/Bureau/tempnet/lks_InVS13.dat\")\n",
    "new_tij = tnr.P__w_t1_tw(lks_data,0,60480,1)\n",
    "new_lks = tnu.tijtau_to_link_timeline(tnu.tij_to_tijtau(new_tij,1))"
   ]
  },
  {
   "cell_type": "markdown",
   "metadata": {},
   "source": [
    "Test of the preservation of the weights:"
   ]
  },
  {
   "cell_type": "code",
   "execution_count": 4,
   "metadata": {},
   "outputs": [
    {
     "data": {
      "text/plain": [
       "True"
      ]
     },
     "execution_count": 4,
     "metadata": {},
     "output_type": "execute_result"
    }
   ],
   "source": [
    "w0 = tnm.weights(lks_data)\n",
    "w1 = tnm.weights(new_lks)\n",
    "Test = np.array([w0[lk] == w1[lk] for lk in lks_data.links()])\n",
    "Test.all()"
   ]
  },
  {
   "cell_type": "markdown",
   "metadata": {},
   "source": [
    "Test of the modification of the activity timeline:"
   ]
  },
  {
   "cell_type": "code",
   "execution_count": 5,
   "metadata": {},
   "outputs": [
    {
     "data": {
      "image/png": "[encoded data removed]",
      "text/plain": [
       "<matplotlib.figure.Figure at 0x7f74636a3410>"
      ]
     },
     "metadata": {
      "needs_background": "light"
     },
     "output_type": "display_data"
    }
   ],
   "source": [
    "TL0 = tnm.activity_timeline(tnu.link_timeline_to_snapshot_sequence(lks_data,1,0,60480))\n",
    "TL1 = tnm.activity_timeline(tnu.link_timeline_to_snapshot_sequence(new_lks,1,0,60480))\n",
    "\n",
    "tmin = 1000\n",
    "tmax = 2000\n",
    "\n",
    "fig = plt.figure(figsize=(8,2))\n",
    "x = range(len(TL0))[tmin:tmax]\n",
    "plt.plot(x,TL0[tmin:tmax],'k-')\n",
    "plt.plot(x,TL1[tmin:tmax],'r-')\n",
    "plt.show()"
   ]
  },
  {
   "cell_type": "markdown",
   "metadata": {},
   "source": [
    "### Permutation of intercontacts within timelines $\\text{P}[\\pi_\\mathcal{L}(\\Delta \\tau)]$, $\\text{P}[\\pi_\\mathcal{L}(\\Delta \\tau),\\mathbf{t}_1]$: ###\n",
    "These shufflings randomly permutate the intercontacts within each timeline of a `link_timeline()` object `lks_data`. For instant-events temporal networks, all contact durations are set to the time-step `dt`. For such shufflings, simply use the functions `P__pitau_pidtau(lks_data,t_i,t_f,dt)` and `P__pitau_pidtau_t1(lks_data,t_i,t_f,dt)` described in the next chapter with a `link_timeline()` object that contains an instant-events temporal network."
   ]
  },
  {
   "cell_type": "code",
   "execution_count": null,
   "metadata": {
    "collapsed": true
   },
   "outputs": [],
   "source": []
  }
 ],
 "metadata": {
  "kernelspec": {
   "display_name": "Python 2",
   "language": "python",
   "name": "python2"
  },
  "language_info": {
   "codemirror_mode": {
    "name": "ipython",
    "version": 2
   },
   "file_extension": ".py",
   "mimetype": "text/x-python",
   "name": "python",
   "nbconvert_exporter": "python",
   "pygments_lexer": "ipython2",
   "version": "2.7.15rc1"
  }
 },
 "nbformat": 4,
 "nbformat_minor": 1
}
