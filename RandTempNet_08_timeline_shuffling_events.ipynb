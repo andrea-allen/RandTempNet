{
 "cells": [
  {
   "cell_type": "markdown",
   "metadata": {},
   "source": [
    "# Random Temporal Networks v1.0 #"
   ]
  },
  {
   "cell_type": "code",
   "execution_count": 1,
   "metadata": {
    "collapsed": true
   },
   "outputs": [],
   "source": [
    "import sys\n",
    "sys.path.append(\"/home/luffy/Bureau/Random/Library/\")\n",
    "import RandTempNet as rn\n",
    "import numpy as np\n",
    "import matplotlib.pyplot as plt\n",
    "import itertools as it"
   ]
  },
  {
   "cell_type": "markdown",
   "metadata": {},
   "source": [
    "## Timeline shuffling (events) ##\n",
    "We here present randomization techniques which shuffle the timelines of contact of links in the static network. All functions take a `link_timeline()` object as input, and return a `link_timeline()` object."
   ]
  },
  {
   "cell_type": "markdown",
   "metadata": {},
   "source": [
    "### Events permutation $\\text{P}[\\mathcal{L},E]$: `P__L_E(lks_data,t_i,t_f,dt)` ###\n",
    "This function randomly permutates the time stamps of events between `t_i` and `t_f` and among all timelines of a `link_timeline()` object `lks_data`. The initial time step `t_i`, final time step `t_f` and time step duration `dt` are required.\n",
    "\n",
    "**Note:** This function returns a `tij()` object."
   ]
  },
  {
   "cell_type": "code",
   "execution_count": 2,
   "metadata": {
    "collapsed": true
   },
   "outputs": [],
   "source": [
    "lks_data = rn.read_link_timeline(\"Bureau/Random/Library/lks_InVS13.dat\")\n",
    "new_tij = rn.P__L_E(lks_data,0,60480,1)\n",
    "new_lks = rn.tijtau_to_link_timeline(rn.tij_to_tijtau(new_tij,1))"
   ]
  },
  {
   "cell_type": "markdown",
   "metadata": {},
   "source": [
    "Test of the preservation of the total number of events:"
   ]
  },
  {
   "cell_type": "code",
   "execution_count": 3,
   "metadata": {},
   "outputs": [
    {
     "data": {
      "text/plain": [
       "True"
      ]
     },
     "execution_count": 3,
     "metadata": {},
     "output_type": "execute_result"
    }
   ],
   "source": [
    "nC0 = sum(rn.weights(lks_data).values())\n",
    "nC1 = sum(rn.weights(new_lks).values())\n",
    "nC0 == nC1"
   ]
  },
  {
   "cell_type": "markdown",
   "metadata": {},
   "source": [
    "Test of the modification of the activity timeline:"
   ]
  },
  {
   "cell_type": "code",
   "execution_count": 4,
   "metadata": {},
   "outputs": [
    {
     "data": {
      "image/png": "[encoded data removed]",
      "text/plain": [
       "<matplotlib.figure.Figure at 0x7f87e0664150>"
      ]
     },
     "metadata": {},
     "output_type": "display_data"
    }
   ],
   "source": [
    "TL0 = rn.activity_timeline(rn.link_timeline_to_snapshot_sequence(lks_data,1,0,60480))\n",
    "TL1 = rn.activity_timeline(rn.link_timeline_to_snapshot_sequence(new_lks,1,0,60480))\n",
    "\n",
    "tmin = 1000\n",
    "tmax = 2000\n",
    "\n",
    "fig = plt.figure(figsize=(8,2))\n",
    "x = range(len(TL0))[tmin:tmax]\n",
    "plt.plot(x,TL0[tmin:tmax],'k-')\n",
    "plt.plot(x,TL1[tmin:tmax],'r-')\n",
    "plt.show()"
   ]
  },
  {
   "cell_type": "markdown",
   "metadata": {},
   "source": [
    "### Events permutation with weigths preservation $\\text{P}[\\mathbf{w}]$: `P__w(lks_data,t_i,t_f,dt)` ###\n",
    "This function randomly assigns time stamps of $w$ events between `t_i` and `t_f` for every timeline of a `link_timeline()` object `lks_data`. The initial time step `t_i`, final time step `t_f` and time step duration `dt` are required.\n",
    "\n",
    "**Note:** This function returns a `tij()` object."
   ]
  },
  {
   "cell_type": "code",
   "execution_count": 5,
   "metadata": {
    "collapsed": true
   },
   "outputs": [],
   "source": [
    "lks_data = rn.read_link_timeline(\"Bureau/Random/Library/lks_InVS13.dat\")\n",
    "new_tij = rn.P__w(lks_data,0,60480,1)\n",
    "new_lks = rn.tijtau_to_link_timeline(rn.tij_to_tijtau(new_tij,1))"
   ]
  },
  {
   "cell_type": "markdown",
   "metadata": {},
   "source": [
    "Test of the preservation of the weights:"
   ]
  },
  {
   "cell_type": "code",
   "execution_count": 6,
   "metadata": {},
   "outputs": [
    {
     "data": {
      "text/plain": [
       "True"
      ]
     },
     "execution_count": 6,
     "metadata": {},
     "output_type": "execute_result"
    }
   ],
   "source": [
    "w0 = rn.weights(lks_data)\n",
    "w1 = rn.weights(new_lks)\n",
    "Test = np.array([w0[lk] == w1[lk] for lk in lks_data.links()])\n",
    "Test.all()"
   ]
  },
  {
   "cell_type": "markdown",
   "metadata": {},
   "source": [
    "Test of the modification of the activity timeline:"
   ]
  },
  {
   "cell_type": "code",
   "execution_count": 7,
   "metadata": {},
   "outputs": [
    {
     "data": {
      "image/png": "[encoded data removed]",
      "text/plain": [
       "<matplotlib.figure.Figure at 0x7f87c4c2e590>"
      ]
     },
     "metadata": {},
     "output_type": "display_data"
    }
   ],
   "source": [
    "TL0 = rn.activity_timeline(rn.link_timeline_to_snapshot_sequence(lks_data,1,0,60480))\n",
    "TL1 = rn.activity_timeline(rn.link_timeline_to_snapshot_sequence(new_lks,1,0,60480))\n",
    "\n",
    "tmin = 1000\n",
    "tmax = 2000\n",
    "\n",
    "fig = plt.figure(figsize=(8,2))\n",
    "x = range(len(TL0))[tmin:tmax]\n",
    "plt.plot(x,TL0[tmin:tmax],'k-')\n",
    "plt.plot(x,TL1[tmin:tmax],'r-')\n",
    "plt.show()"
   ]
  },
  {
   "cell_type": "markdown",
   "metadata": {},
   "source": [
    "### Events permutation with weigths, initial time and final time preservation $\\text{P}[\\mathbf{w},\\mathbf{t}^1,\\mathbf{t}^w]$: `P__w_t1_tw(lks_data,t_i,t_f,dt)` ###\n",
    "This function randomly assigns time stamps of $w$ events between `t1` and `tw` for every timeline of a `link_timeline()` object `lks_data`. The initial time step `t_i`, final time step `t_f` and time step duration `dt` are required.\n",
    "\n",
    "**Note:** This function returns a `tij()` object."
   ]
  },
  {
   "cell_type": "code",
   "execution_count": 8,
   "metadata": {
    "collapsed": true
   },
   "outputs": [],
   "source": [
    "lks_data = rn.read_link_timeline(\"Bureau/Random/Library/lks_InVS13.dat\")\n",
    "new_tij = rn.P__w_t1_tw(lks_data,0,60480,1)\n",
    "new_lks = rn.tijtau_to_link_timeline(rn.tij_to_tijtau(new_tij,1))"
   ]
  },
  {
   "cell_type": "markdown",
   "metadata": {},
   "source": [
    "Test of the preservation of the weights:"
   ]
  },
  {
   "cell_type": "code",
   "execution_count": 9,
   "metadata": {},
   "outputs": [
    {
     "data": {
      "text/plain": [
       "True"
      ]
     },
     "execution_count": 9,
     "metadata": {},
     "output_type": "execute_result"
    }
   ],
   "source": [
    "w0 = rn.weights(lks_data)\n",
    "w1 = rn.weights(new_lks)\n",
    "Test = np.array([w0[lk] == w1[lk] for lk in lks_data.links()])\n",
    "Test.all()"
   ]
  },
  {
   "cell_type": "markdown",
   "metadata": {},
   "source": [
    "Test of the modification of the activity timeline:"
   ]
  },
  {
   "cell_type": "code",
   "execution_count": 10,
   "metadata": {},
   "outputs": [
    {
     "data": {
      "image/png": "[encoded data removed]",
      "text/plain": [
       "<matplotlib.figure.Figure at 0x7f87bff03910>"
      ]
     },
     "metadata": {},
     "output_type": "display_data"
    }
   ],
   "source": [
    "TL0 = rn.activity_timeline(rn.link_timeline_to_snapshot_sequence(lks_data,1,0,60480))\n",
    "TL1 = rn.activity_timeline(rn.link_timeline_to_snapshot_sequence(new_lks,1,0,60480))\n",
    "\n",
    "tmin = 1000\n",
    "tmax = 2000\n",
    "\n",
    "fig = plt.figure(figsize=(8,2))\n",
    "x = range(len(TL0))[tmin:tmax]\n",
    "plt.plot(x,TL0[tmin:tmax],'k-')\n",
    "plt.plot(x,TL1[tmin:tmax],'r-')\n",
    "plt.show()"
   ]
  },
  {
   "cell_type": "markdown",
   "metadata": {},
   "source": [
    "### Global event shuffling $\\text{P}[\\mathbf{w},\\mathbf{t}]$: `P__w_t(lks_data,dt)` ###\n",
    "This function shuffles events between existing links of a `link_timeline()` object `lks_data`. The time step duration `dt` is required.\n",
    "\n",
    "**Note:** This function returns a `tij()` object."
   ]
  },
  {
   "cell_type": "code",
   "execution_count": 11,
   "metadata": {
    "collapsed": true
   },
   "outputs": [],
   "source": [
    "lks_data = rn.read_link_timeline(\"Bureau/Random/Library/lks_InVS13.dat\")\n",
    "new_tij = rn.P__w_t(lks_data,1)\n",
    "new_lks = rn.tijtau_to_link_timeline(rn.tij_to_tijtau(new_tij,1))"
   ]
  },
  {
   "cell_type": "markdown",
   "metadata": {},
   "source": [
    "Test of the preservation of the weights:"
   ]
  },
  {
   "cell_type": "code",
   "execution_count": 12,
   "metadata": {},
   "outputs": [
    {
     "data": {
      "text/plain": [
       "True"
      ]
     },
     "execution_count": 12,
     "metadata": {},
     "output_type": "execute_result"
    }
   ],
   "source": [
    "w0 = rn.weights(lks_data)\n",
    "w1 = rn.weights(new_lks)\n",
    "Test = np.array([w0[lk] == w1[lk] for lk in lks_data.links()])\n",
    "Test.all()"
   ]
  },
  {
   "cell_type": "markdown",
   "metadata": {},
   "source": [
    "Test of the preservation of the activity timeline:"
   ]
  },
  {
   "cell_type": "code",
   "execution_count": 13,
   "metadata": {},
   "outputs": [
    {
     "data": {
      "image/png": "[encoded data removed]",
      "text/plain": [
       "<matplotlib.figure.Figure at 0x7f87bcdaba50>"
      ]
     },
     "metadata": {},
     "output_type": "display_data"
    }
   ],
   "source": [
    "TL0 = rn.activity_timeline(rn.link_timeline_to_snapshot_sequence(lks_data,1,0,60480))\n",
    "TL1 = rn.activity_timeline(rn.link_timeline_to_snapshot_sequence(new_lks,1,0,60480))\n",
    "\n",
    "tmin = 1000\n",
    "tmax = 2000\n",
    "\n",
    "fig = plt.figure(figsize=(8,2))\n",
    "x = range(len(TL0))[tmin:tmax]\n",
    "plt.plot(x,TL0[tmin:tmax],'k-')\n",
    "plt.plot(x,TL1[tmin:tmax],'r-')\n",
    "plt.show()"
   ]
  },
  {
   "cell_type": "markdown",
   "metadata": {},
   "source": [
    "Test of the modification of $p_\\tau$:"
   ]
  },
  {
   "cell_type": "code",
   "execution_count": 15,
   "metadata": {},
   "outputs": [
    {
     "data": {
      "image/png": "[encoded data removed]",
      "text/plain": [
       "<matplotlib.figure.Figure at 0x7f87bf941790>"
      ]
     },
     "metadata": {},
     "output_type": "display_data"
    }
   ],
   "source": [
    "list_tau0 = rn.contact_durations(lks_data)\n",
    "list_tau1 = rn.contact_durations(new_lks)\n",
    "list_tau0 = list(it.chain(*list_tau0.values()))\n",
    "list_tau1 = list(it.chain(*list_tau1.values()))\n",
    "\n",
    "from math import log\n",
    "\n",
    "fig = plt.figure(figsize=(4,4))\n",
    "tmax = max(list_tau0)\n",
    "x = 2.**(np.arange(0,log(tmax)+1,0.5))\n",
    "h0 = np.histogram(list_tau0,bins=x)\n",
    "h1 = np.histogram(list_tau1,bins=x)\n",
    "plt.loglog(x[1:],h0[0],'ko')\n",
    "plt.loglog(x[1:],h1[0],'r^')\n",
    "plt.show()"
   ]
  },
  {
   "cell_type": "code",
   "execution_count": null,
   "metadata": {
    "collapsed": true
   },
   "outputs": [],
   "source": []
  }
 ],
 "metadata": {
  "kernelspec": {
   "display_name": "Python 3",
   "language": "python",
   "name": "python3"
  },
  "language_info": {
   "codemirror_mode": {
    "name": "ipython",
    "version": 3
   },
   "file_extension": ".py",
   "mimetype": "text/x-python",
   "name": "python",
   "nbconvert_exporter": "python",
   "pygments_lexer": "ipython3",
   "version": "3.6.1"
  }
 },
 "nbformat": 4,
 "nbformat_minor": 1
}
