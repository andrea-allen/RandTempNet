{
 "cells": [
  {
   "cell_type": "markdown",
   "metadata": {},
   "source": [
    "# Temporal Networks v1.0 #"
   ]
  },
  {
   "cell_type": "code",
   "execution_count": 1,
   "metadata": {},
   "outputs": [],
   "source": [
    "import sys\n",
    "sys.path.append(\"/home/genois/Bureau/tempnet/\")\n",
    "import numpy as np\n",
    "import matplotlib.pyplot as plt"
   ]
  },
  {
   "cell_type": "code",
   "execution_count": 2,
   "metadata": {},
   "outputs": [],
   "source": [
    "import tempnet.utils as tnu\n",
    "import tempnet.measures as tnm\n",
    "import tempnet.randomisations as tnr"
   ]
  },
  {
   "cell_type": "markdown",
   "metadata": {},
   "source": [
    "## Sequence shufflings ##\n",
    "We here present randomization techniques which shuffle snapshot sequences. All functions take a snapshot_sequence() object as input, and return a snapshot_sequence() object."
   ]
  },
  {
   "cell_type": "markdown",
   "metadata": {},
   "source": [
    "### Permutation of snapshots $\\text{P}[p_\\mathcal{T}(\\Gamma)]$: `P__pGamma(seq_data)` ###\n",
    "This function randomly permutates all the snapshots of a `snapshot_sequence()` object `seq_data`."
   ]
  },
  {
   "cell_type": "code",
   "execution_count": 3,
   "metadata": {},
   "outputs": [],
   "source": [
    "seq_data = tnu.read_snapshot_sequence(\"/home/genois/Bureau/tempnet/timeset_InVS13.dat\")\n",
    "new_seq = tnr.P__pGamma(seq_data)"
   ]
  },
  {
   "cell_type": "code",
   "execution_count": 4,
   "metadata": {},
   "outputs": [
    {
     "data": {
      "image/png": "[encoded data removed]",
      "text/plain": [
       "<matplotlib.figure.Figure at 0x7fc3d68ad150>"
      ]
     },
     "metadata": {
      "needs_background": "light"
     },
     "output_type": "display_data"
    }
   ],
   "source": [
    "TL0 = tnm.activity_timeline(seq_data)\n",
    "TL2 = tnm.activity_timeline(new_seq)\n",
    "\n",
    "tmin = 1000\n",
    "tmax = 2000\n",
    "\n",
    "fig = plt.figure(figsize=(8,2))\n",
    "x = range(len(TL0))[tmin:tmax]\n",
    "plt.plot(x,TL0[tmin:tmax],'k-')\n",
    "plt.plot(x,TL2[tmin:tmax],'r-')\n",
    "plt.show()"
   ]
  },
  {
   "cell_type": "markdown",
   "metadata": {},
   "source": [
    "### Permutation of active snapshots $\\text{P}[p_\\mathcal{T}(\\Gamma),\\text{sgn}(\\mathbf{A})]$: `P__pGamma_sgnA(seq_data)` ###\n",
    "This function randomly permutates the active snapshots of a `snapshot_sequence()` object `seq_data`."
   ]
  },
  {
   "cell_type": "code",
   "execution_count": 6,
   "metadata": {},
   "outputs": [],
   "source": [
    "seq_data = tnu.read_snapshot_sequence(\"/home/genois/Bureau/tempnet/timeset_InVS13.dat\")\n",
    "new_seq = tnr.P__pGamma_sgnA(seq_data)"
   ]
  },
  {
   "cell_type": "code",
   "execution_count": 7,
   "metadata": {},
   "outputs": [
    {
     "data": {
      "image/png": "[encoded data removed]",
      "text/plain": [
       "<matplotlib.figure.Figure at 0x7fc3d1385810>"
      ]
     },
     "metadata": {
      "needs_background": "light"
     },
     "output_type": "display_data"
    }
   ],
   "source": [
    "TL0 = tnm.activity_timeline(seq_data)\n",
    "TL1 = tnm.activity_timeline(new_seq)\n",
    "\n",
    "tmin = 1000\n",
    "tmax = 2000\n",
    "\n",
    "fig = plt.figure(figsize=(8,2))\n",
    "x = range(len(TL0))[tmin:tmax]\n",
    "plt.plot(x,TL0[tmin:tmax],'k-')\n",
    "plt.plot(x,TL1[tmin:tmax],'r-')\n",
    "plt.show()"
   ]
  },
  {
   "cell_type": "code",
   "execution_count": null,
   "metadata": {
    "collapsed": true
   },
   "outputs": [],
   "source": []
  }
 ],
 "metadata": {
  "kernelspec": {
   "display_name": "Python 2",
   "language": "python",
   "name": "python2"
  },
  "language_info": {
   "codemirror_mode": {
    "name": "ipython",
    "version": 2
   },
   "file_extension": ".py",
   "mimetype": "text/x-python",
   "name": "python",
   "nbconvert_exporter": "python",
   "pygments_lexer": "ipython2",
   "version": "2.7.15rc1"
  }
 },
 "nbformat": 4,
 "nbformat_minor": 1
}
