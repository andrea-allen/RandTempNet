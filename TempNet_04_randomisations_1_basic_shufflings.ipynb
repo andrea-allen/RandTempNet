{
 "cells": [
  {
   "cell_type": "markdown",
   "metadata": {},
   "source": [
    "# Temporal Networks v1.0 #"
   ]
  },
  {
   "cell_type": "code",
   "execution_count": 1,
   "metadata": {},
   "outputs": [],
   "source": [
    "import sys\n",
    "sys.path.append(\"/home/genois/Bureau/tempnet/\")\n",
    "import numpy as np\n",
    "import matplotlib.pyplot as plt"
   ]
  },
  {
   "cell_type": "markdown",
   "metadata": {},
   "source": [
    "## Randomisations ##\n",
    "\n",
    "The `randomisations` module provides tools for randomising temporal networks. The methods developped in this library and their effects on temporal networks features are described in the following reference paper:\n",
    "\n",
    "Randomized reference models for temporal networks. Gauvin, Génois, Karsai, Kivelä, Takaguchi, Valdano and Vestergaard.\n",
    "\n",
    "https://arxiv.org/abs/1806.04032"
   ]
  },
  {
   "cell_type": "code",
   "execution_count": 11,
   "metadata": {},
   "outputs": [],
   "source": [
    "import tempnet.utils as tnu\n",
    "import tempnet.measures as tnm\n",
    "import tempnet.randomisations as tnr"
   ]
  },
  {
   "cell_type": "markdown",
   "metadata": {},
   "source": [
    "## Basic shufflings ##\n",
    "We here present basic randomization techniques."
   ]
  },
  {
   "cell_type": "markdown",
   "metadata": {},
   "source": [
    "### Global instant-events shuffling $\\text{P}[1]$: `P__1(seq_data)` ###\n",
    "This function randomly permutates instant-events of a `snapshot_sequence()` object `seq_data`, and returns a `snapshot_sequence()` object."
   ]
  },
  {
   "cell_type": "code",
   "execution_count": 3,
   "metadata": {},
   "outputs": [],
   "source": [
    "seq_data = tnu.read_snapshot_sequence(\"/home/genois/Bureau/tempnet/timeset_InVS13.dat\")\n",
    "new_seq = tnr.P__1(seq_data)"
   ]
  },
  {
   "cell_type": "code",
   "execution_count": 8,
   "metadata": {},
   "outputs": [
    {
     "data": {
      "image/png": "[encoded data removed]",
      "text/plain": [
       "<matplotlib.figure.Figure at 0x7fa3b035c050>"
      ]
     },
     "metadata": {
      "needs_background": "light"
     },
     "output_type": "display_data"
    }
   ],
   "source": [
    "TL0 = tnm.activity_timeline(seq_data)\n",
    "TL1 = tnm.activity_timeline(new_seq)\n",
    "\n",
    "tmin = 0\n",
    "tmax = 10000\n",
    "\n",
    "fig = plt.figure(figsize=(8,2))\n",
    "x = range(len(TL0))[tmin:tmax]\n",
    "plt.plot(x,TL0[tmin:tmax],'k-')\n",
    "plt.plot(x,TL1[tmin:tmax],'r-')\n",
    "plt.show()"
   ]
  },
  {
   "cell_type": "markdown",
   "metadata": {},
   "source": [
    "### Global event shuffling $\\text{P}[p(\\tau)]$: `P__ptau(lks_data,dt)` ###\n",
    "This function shuffles contacts between all possible links of a `link_timeline()` object `lks_data` without preserving their starting time and duration. The initial time `ti`, the final time `tf` and the time step duration `dt` are required. It returns a `link_timeline()` object."
   ]
  },
  {
   "cell_type": "code",
   "execution_count": 3,
   "metadata": {},
   "outputs": [],
   "source": [
    "lks_data = tnu.read_link_timeline(\"/home/genois/Bureau/tempnet/lks_InVS13.dat\")\n",
    "new_lks = tnr.P__ptau(lks_data,0,60480,1)"
   ]
  },
  {
   "cell_type": "markdown",
   "metadata": {},
   "source": [
    "Test of the modification of the activity timeline:"
   ]
  },
  {
   "cell_type": "code",
   "execution_count": 7,
   "metadata": {},
   "outputs": [
    {
     "data": {
      "image/png": "[encoded data removed]",
      "text/plain": [
       "<matplotlib.figure.Figure at 0x7ff1680b7bd0>"
      ]
     },
     "metadata": {
      "needs_background": "light"
     },
     "output_type": "display_data"
    }
   ],
   "source": [
    "TL0 = tnm.activity_timeline(tnu.link_timeline_to_snapshot_sequence(lks_data,1,0,60480))\n",
    "TL1 = tnm.activity_timeline(tnu.link_timeline_to_snapshot_sequence(new_lks,1,0,60480))\n",
    "\n",
    "tmin = 0\n",
    "tmax = 10000\n",
    "\n",
    "fig = plt.figure(figsize=(8,2))\n",
    "x = range(len(TL0))[tmin:tmax]\n",
    "plt.plot(x,TL0[tmin:tmax],'k-')\n",
    "plt.plot(x,TL1[tmin:tmax],'r-')\n",
    "plt.show()"
   ]
  },
  {
   "cell_type": "markdown",
   "metadata": {
    "collapsed": true
   },
   "source": [
    "Test of the preservation of the $p_\\tau$:"
   ]
  },
  {
   "cell_type": "code",
   "execution_count": 10,
   "metadata": {},
   "outputs": [
    {
     "data": {
      "image/png": "[encoded data removed]",
      "text/plain": [
       "<matplotlib.figure.Figure at 0x7ff1654225d0>"
      ]
     },
     "metadata": {
      "needs_background": "light"
     },
     "output_type": "display_data"
    }
   ],
   "source": [
    "import itertools as it\n",
    "from math import log\n",
    "\n",
    "list_tau0 = tnm.contact_durations(lks_data)\n",
    "list_tau1 = tnm.contact_durations(new_lks)\n",
    "list_tau0 = list(it.chain(*list_tau0.values()))\n",
    "list_tau1 = list(it.chain(*list_tau1.values()))\n",
    "\n",
    "fig = plt.figure(figsize=(4,4))\n",
    "tmax = max(list_tau0)\n",
    "x = 2.**(np.arange(0,log(tmax)+1,0.5))\n",
    "h0 = np.histogram(list_tau0,bins=x)\n",
    "h1 = np.histogram(list_tau1,bins=x)\n",
    "plt.loglog(x[1:],h0[0],'ko')\n",
    "plt.loglog(x[1:],h1[0],'r^')\n",
    "plt.show()"
   ]
  },
  {
   "cell_type": "code",
   "execution_count": null,
   "metadata": {},
   "outputs": [],
   "source": []
  }
 ],
 "metadata": {
  "kernelspec": {
   "display_name": "Python 2",
   "language": "python",
   "name": "python2"
  },
  "language_info": {
   "codemirror_mode": {
    "name": "ipython",
    "version": 2
   },
   "file_extension": ".py",
   "mimetype": "text/x-python",
   "name": "python",
   "nbconvert_exporter": "python",
   "pygments_lexer": "ipython2",
   "version": "2.7.15+"
  }
 },
 "nbformat": 4,
 "nbformat_minor": 1
}
