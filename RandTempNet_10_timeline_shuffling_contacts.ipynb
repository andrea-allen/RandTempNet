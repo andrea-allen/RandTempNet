{
 "cells": [
  {
   "cell_type": "markdown",
   "metadata": {},
   "source": [
    "# Random Temporal Networks v1.0 #"
   ]
  },
  {
   "cell_type": "code",
   "execution_count": 2,
   "metadata": {
    "collapsed": true
   },
   "outputs": [],
   "source": [
    "import sys\n",
    "sys.path.append(\"/home/luffy/Bureau/Random/Library/\")\n",
    "import RandTempNet as rn\n",
    "import numpy as np\n",
    "import matplotlib.pyplot as plt\n",
    "import itertools as it"
   ]
  },
  {
   "cell_type": "markdown",
   "metadata": {},
   "source": [
    "## Timeline shuffling (contacts) ##\n",
    "We here present randomization techniques which shuffle the timelines of contact of links in the static network. All functions take a `link_timeline()` object as input, and return a `link_timeline()` object."
   ]
  },
  {
   "cell_type": "markdown",
   "metadata": {},
   "source": [
    "### Global contact shuffling on the aggregated network $\\text{P}[\\mathcal{L},p(\\tau)]$: `P__L_ptau(lks_data,ti,tf,dt)` ###\n",
    "This function shuffles contacts between all the links of a `link_timeline()` object `lks_data` while preserving their duration. The initial time `ti`, the final time `tf` and the time step duration `dt` are required."
   ]
  },
  {
   "cell_type": "code",
   "execution_count": 2,
   "metadata": {
    "collapsed": true
   },
   "outputs": [],
   "source": [
    "lks_data = rn.read_link_timeline(\"Bureau/Random/Library/lks_InVS13.dat\")\n",
    "new_lks = rn.P__Gstat_delta(lks_data,0,60480,1)"
   ]
  },
  {
   "cell_type": "markdown",
   "metadata": {},
   "source": [
    "Test of the modification of the activity timeline:"
   ]
  },
  {
   "cell_type": "code",
   "execution_count": 4,
   "metadata": {},
   "outputs": [
    {
     "data": {
      "image/png": "[encoded data removed]",
      "text/plain": [
       "<matplotlib.figure.Figure at 0x7f3429a431d0>"
      ]
     },
     "metadata": {},
     "output_type": "display_data"
    }
   ],
   "source": [
    "TL0 = rn.activity_timeline(rn.link_timeline_to_snapshot_sequence(lks_data,1,0,60480))\n",
    "TL1 = rn.activity_timeline(rn.link_timeline_to_snapshot_sequence(new_lks,1,0,60480))\n",
    "\n",
    "tmin = 1000\n",
    "tmax = 2000\n",
    "\n",
    "fig = plt.figure(figsize=(8,2))\n",
    "x = range(len(TL0))[tmin:tmax]\n",
    "plt.plot(x,TL0[tmin:tmax],'k-')\n",
    "plt.plot(x,TL1[tmin:tmax],'r-')\n",
    "plt.show()"
   ]
  },
  {
   "cell_type": "markdown",
   "metadata": {},
   "source": [
    "Test of the preservation of the $p_\\tau$:"
   ]
  },
  {
   "cell_type": "code",
   "execution_count": 5,
   "metadata": {},
   "outputs": [
    {
     "data": {
      "image/png": "[encoded data removed]",
      "text/plain": [
       "<matplotlib.figure.Figure at 0x7f3429905a10>"
      ]
     },
     "metadata": {},
     "output_type": "display_data"
    }
   ],
   "source": [
    "list_tau0 = rn.contact_durations(lks_data)\n",
    "list_tau1 = rn.contact_durations(new_lks)\n",
    "list_tau0 = list(it.chain(*list_tau0.values()))\n",
    "list_tau1 = list(it.chain(*list_tau1.values()))\n",
    "\n",
    "fig = plt.figure(figsize=(4,4))\n",
    "tmax = max(list_tau0)\n",
    "x = 2.**(np.arange(0,log(tmax)+1,0.5))\n",
    "h0 = np.histogram(list_tau0,bins=x)\n",
    "h1 = np.histogram(list_tau1,bins=x)\n",
    "plt.loglog(x[1:],h0[0],'ko')\n",
    "plt.loglog(x[1:],h1[0],'r^')\n",
    "plt.show()"
   ]
  },
  {
   "cell_type": "markdown",
   "metadata": {},
   "source": [
    "### Global contact shuffling with frequency preservation $\\text{P}[\\mathbf{n},p(\\mathbf{t},\\tau)]$: `P__n_pttau_E(lks_data,dt)` ###\n",
    "This function shuffles contacts between existing links of a `link_timeline()` object `lks_data` but preserves the frequencies. The time step duration `dt` is required."
   ]
  },
  {
   "cell_type": "code",
   "execution_count": 3,
   "metadata": {
    "collapsed": true
   },
   "outputs": [],
   "source": [
    "lks_data = rn.read_link_timeline(\"Bureau/Random/Library/lks_InVS13.dat\")\n",
    "new_lks = rn.P__n_ptau_E(lks_data,1)"
   ]
  },
  {
   "cell_type": "markdown",
   "metadata": {},
   "source": [
    "Test of the preservation of the frequencies:"
   ]
  },
  {
   "cell_type": "code",
   "execution_count": 4,
   "metadata": {},
   "outputs": [
    {
     "data": {
      "text/plain": [
       "True"
      ]
     },
     "execution_count": 4,
     "metadata": {},
     "output_type": "execute_result"
    }
   ],
   "source": [
    "n0 = rn.number_of_contacts(lks_data)\n",
    "n1 = rn.number_of_contacts(new_lks)\n",
    "Test = np.array([n0[lk] == n1[lk] for lk in lks_data.links()])\n",
    "Test.all()"
   ]
  },
  {
   "cell_type": "markdown",
   "metadata": {},
   "source": [
    "Test of the preservation of the activity timeline:"
   ]
  },
  {
   "cell_type": "code",
   "execution_count": 5,
   "metadata": {},
   "outputs": [
    {
     "data": {
      "image/png": "[encoded data removed]",
      "text/plain": [
       "<matplotlib.figure.Figure at 0x7f140aa91a50>"
      ]
     },
     "metadata": {},
     "output_type": "display_data"
    }
   ],
   "source": [
    "TL0 = rn.activity_timeline(rn.link_timeline_to_snapshot_sequence(lks_data,1,0,60480))\n",
    "TL1 = rn.activity_timeline(rn.link_timeline_to_snapshot_sequence(new_lks,1,0,60480))\n",
    "\n",
    "tmin = 1000\n",
    "tmax = 2000\n",
    "\n",
    "fig = plt.figure(figsize=(8,2))\n",
    "x = range(len(TL0))[tmin:tmax]\n",
    "plt.plot(x,TL0[tmin:tmax],'k-')\n",
    "plt.plot(x,TL1[tmin:tmax],'r-')\n",
    "plt.show()"
   ]
  },
  {
   "cell_type": "markdown",
   "metadata": {},
   "source": [
    "### Global contact shuffling $\\text{P}[\\mathcal{L},p(\\mathbf{t},\\tau)]$: `P__L_pttau(lks_data,dt)` ###\n",
    "This function shuffles contacts between existing links of a `link_timeline()` object `lks_data`. The time step duration `dt` is required."
   ]
  },
  {
   "cell_type": "code",
   "execution_count": 6,
   "metadata": {
    "collapsed": true
   },
   "outputs": [],
   "source": [
    "lks_data = rn.read_link_timeline(\"Bureau/Random/Library/lks_InVS13.dat\")\n",
    "new_lks = rn.P__L_pttau(lks_data,1)"
   ]
  },
  {
   "cell_type": "markdown",
   "metadata": {},
   "source": [
    "Test of the preservation of the $p_\\tau$:"
   ]
  },
  {
   "cell_type": "code",
   "execution_count": 7,
   "metadata": {},
   "outputs": [
    {
     "data": {
      "image/png": "[encoded data removed]",
      "text/plain": [
       "<matplotlib.figure.Figure at 0x7fe848bb4990>"
      ]
     },
     "metadata": {},
     "output_type": "display_data"
    }
   ],
   "source": [
    "list_tau0 = rn.contact_durations(lks_data)\n",
    "list_tau1 = rn.contact_durations(new_lks)\n",
    "list_tau0 = list(it.chain(*list_tau0.values()))\n",
    "list_tau1 = list(it.chain(*list_tau1.values()))\n",
    "\n",
    "fig = plt.figure(figsize=(4,4))\n",
    "tmax = max(list_tau0)\n",
    "x = 2.**(np.arange(0,log(tmax)+1,0.5))\n",
    "h0 = np.histogram(list_tau0,bins=x)\n",
    "h1 = np.histogram(list_tau1,bins=x)\n",
    "plt.loglog(x[1:],h0[0],'ko')\n",
    "plt.loglog(x[1:],h1[0],'r^')\n",
    "plt.show()"
   ]
  },
  {
   "cell_type": "markdown",
   "metadata": {},
   "source": [
    "Test of the preservation of the activity timeline:"
   ]
  },
  {
   "cell_type": "code",
   "execution_count": 8,
   "metadata": {},
   "outputs": [
    {
     "data": {
      "image/png": "[encoded data removed]",
      "text/plain": [
       "<matplotlib.figure.Figure at 0x7fe848e297d0>"
      ]
     },
     "metadata": {},
     "output_type": "display_data"
    }
   ],
   "source": [
    "TL0 = rn.activity_timeline(rn.link_timeline_to_snapshot_sequence(lks_data,1,0,60480))\n",
    "TL1 = rn.activity_timeline(rn.link_timeline_to_snapshot_sequence(new_lks,1,0,60480))\n",
    "\n",
    "tmin = 1000\n",
    "tmax = 2000\n",
    "\n",
    "fig = plt.figure(figsize=(8,2))\n",
    "x = range(len(TL0))[tmin:tmax]\n",
    "plt.plot(x,TL0[tmin:tmax],'k-')\n",
    "plt.plot(x,TL1[tmin:tmax],'r-')\n",
    "plt.show()"
   ]
  },
  {
   "cell_type": "markdown",
   "metadata": {},
   "source": [
    "Test of the modification of the weights distribution:"
   ]
  },
  {
   "cell_type": "code",
   "execution_count": 9,
   "metadata": {},
   "outputs": [
    {
     "data": {
      "image/png": "[encoded data removed]",
      "text/plain": [
       "<matplotlib.figure.Figure at 0x7fe848f3fd50>"
      ]
     },
     "metadata": {},
     "output_type": "display_data"
    }
   ],
   "source": [
    "list_w0 = rn.weights(lks_data).values()\n",
    "list_w1 = rn.weights(new_lks).values()\n",
    "\n",
    "fig = plt.figure(figsize=(4,4))\n",
    "wmax = max(list_w0)\n",
    "x = 2.**(np.arange(0,log(wmax)+1,0.5))\n",
    "h0 = np.histogram(list_w0,bins=x)\n",
    "h1 = np.histogram(list_w1,bins=x)\n",
    "plt.loglog(x[1:],h0[0],'ko')\n",
    "plt.loglog(x[1:],h1[0],'r^')\n",
    "plt.show()"
   ]
  },
  {
   "cell_type": "code",
   "execution_count": null,
   "metadata": {
    "collapsed": true
   },
   "outputs": [],
   "source": []
  }
 ],
 "metadata": {
  "kernelspec": {
   "display_name": "Python 3",
   "language": "python",
   "name": "python3"
  },
  "language_info": {
   "codemirror_mode": {
    "name": "ipython",
    "version": 3
   },
   "file_extension": ".py",
   "mimetype": "text/x-python",
   "name": "python",
   "nbconvert_exporter": "python",
   "pygments_lexer": "ipython3",
   "version": "3.6.1"
  }
 },
 "nbformat": 4,
 "nbformat_minor": 1
}
